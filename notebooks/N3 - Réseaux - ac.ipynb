{
 "cells": [
  {
   "cell_type": "markdown",
   "id": "ff7558ce-bf26-48b3-98bb-c231ad2ebd3d",
   "metadata": {},
   "source": [
    "# Étape 3 - Analyse des réseaux sociaux\n",
    "\n",
    "*Durée prévisionnelle : 1h15*\n",
    "\n",
    "**Présentation slides avant le notebook**"
   ]
  },
  {
   "cell_type": "markdown",
   "id": "80ac5459-19e3-4976-805c-a46337c09792",
   "metadata": {},
   "source": [
    "Il est possible de s'intéresser non pas uniquement au comptage de certains éléments, mais au lien que ces éléments ont ensemble.\n",
    "\n",
    "Dans le cas des des médias sociaux, le plus évident est le lien entre les utilisateurs.\n",
    "\n",
    "Il peut y avoir différents types de liens :\n",
    "- le fait de suivre quelqu'un\n",
    "- le fait de mentionner quelqu'un\n",
    "- le fait de partager certaines informations (retweet) \n",
    "- le fait d'avoir des caractéristiques similires (similarité)\n",
    "\n",
    "Étudier les réseaux permet de s'intéresser à des formes de proximité / distance entre des entités."
   ]
  },
  {
   "cell_type": "markdown",
   "id": "961ccc4a-a517-4c07-a994-c466ab8a3424",
   "metadata": {},
   "source": [
    "## 1. Construire un réseau égocentrique et visualiser"
   ]
  },
  {
   "cell_type": "markdown",
   "id": "b756074f-eb84-4993-b545-05e50838095f",
   "metadata": {},
   "source": [
    "Pour cela nous allons utiliser la bibliothèque Networkx qui permet de construire et de manipuler des structures de graph : https://networkx.org/"
   ]
  },
  {
   "cell_type": "markdown",
   "id": "841d320c-b98a-4a87-afc5-4106164c2fb8",
   "metadata": {},
   "source": [
    "### Construire le réseau de tous les comptes mentionnés par Didier Raoult"
   ]
  },
  {
   "cell_type": "code",
   "execution_count": 1,
   "id": "17959447-ed57-48b6-b467-ea88de2e6543",
   "metadata": {
    "tags": []
   },
   "outputs": [],
   "source": [
    "import pandas as pd\n",
    "df = pd.read_parquet(\"dataset.parquet\")"
   ]
  },
  {
   "cell_type": "markdown",
   "id": "3a34c301-2fda-4be4-8e02-2ba3fd2c0b07",
   "metadata": {},
   "source": [
    "Uniquement les tweets de Didier Raoult"
   ]
  },
  {
   "cell_type": "code",
   "execution_count": 2,
   "id": "2c2b4168-1b24-4132-875b-26ee05850a67",
   "metadata": {
    "tags": []
   },
   "outputs": [],
   "source": [
    "comptes = df[df[\"from_user_name\"]==\"raoult_didier\"][\"mentioned_user_names\"].dropna()"
   ]
  },
  {
   "cell_type": "code",
   "execution_count": 3,
   "id": "335af6a9-f7ec-472b-9f5d-4fd09af25a4d",
   "metadata": {
    "tags": []
   },
   "outputs": [
    {
     "data": {
      "text/plain": [
       "['ihu_marseille', 'raoult_didier', 'ihu_marseille', 'olivierveran', 'aphp']"
      ]
     },
     "execution_count": 3,
     "metadata": {},
     "output_type": "execute_result"
    }
   ],
   "source": [
    "list(comptes)"
   ]
  },
  {
   "cell_type": "markdown",
   "id": "14874088-5f08-47d8-9d0b-1eb6bf6a41c8",
   "metadata": {},
   "source": [
    "Bibliothèque pour les réseaux"
   ]
  },
  {
   "cell_type": "code",
   "execution_count": 4,
   "id": "1fff4402-b43a-410c-8fcb-6ee8d932db35",
   "metadata": {},
   "outputs": [],
   "source": [
    "import networkx as nx"
   ]
  },
  {
   "cell_type": "markdown",
   "id": "2ac2628e-d3c5-4c5b-815c-f18f54551bc1",
   "metadata": {},
   "source": [
    "Créer un objet réseau"
   ]
  },
  {
   "cell_type": "code",
   "execution_count": 5,
   "id": "22629433-e568-4e3f-bd3e-2974046dff91",
   "metadata": {
    "tags": []
   },
   "outputs": [],
   "source": [
    "reseau = nx.Graph()"
   ]
  },
  {
   "cell_type": "code",
   "execution_count": 15,
   "id": "de03316f-d8f9-43a3-80bb-f35d602a21d7",
   "metadata": {
    "tags": []
   },
   "outputs": [
    {
     "data": {
      "text/plain": [
       "networkx.classes.graph.Graph"
      ]
     },
     "execution_count": 15,
     "metadata": {},
     "output_type": "execute_result"
    }
   ],
   "source": [
    "type(reseau)"
   ]
  },
  {
   "cell_type": "code",
   "execution_count": 6,
   "id": "56e391d2-d85c-4793-a67f-c4deae04e572",
   "metadata": {
    "tags": []
   },
   "outputs": [],
   "source": [
    "# ajouter raoult\n",
    "reseau.add_node(\"raoult\",poids=1)\n",
    "\n",
    "# pour chaque compte mentionné\n",
    "for ent in comptes:\n",
    "    # ajouter le compte\n",
    "    if reseau.has_node(ent):\n",
    "        reseau.nodes[ent][\"poids\"]+=1\n",
    "    else:\n",
    "        reseau.add_node(ent,poids=1)\n",
    "    # ajouter un lien\n",
    "    reseau.add_edge(ent,\"raoult\")"
   ]
  },
  {
   "cell_type": "code",
   "execution_count": 7,
   "id": "01b3391b-c78c-4be3-aac9-cb6a3db0afac",
   "metadata": {
    "tags": []
   },
   "outputs": [
    {
     "data": {
      "text/plain": [
       "EdgeView([('raoult', 'ihu_marseille'), ('raoult', 'raoult_didier'), ('raoult', 'olivierveran'), ('raoult', 'aphp')])"
      ]
     },
     "execution_count": 7,
     "metadata": {},
     "output_type": "execute_result"
    }
   ],
   "source": [
    "reseau.edges"
   ]
  },
  {
   "cell_type": "code",
   "execution_count": 8,
   "id": "e06ed088-436c-4ff3-b84a-635668c9c29c",
   "metadata": {
    "tags": []
   },
   "outputs": [
    {
     "data": {
      "text/plain": [
       "DegreeView({'raoult': 4, 'ihu_marseille': 1, 'raoult_didier': 1, 'olivierveran': 1, 'aphp': 1})"
      ]
     },
     "execution_count": 8,
     "metadata": {},
     "output_type": "execute_result"
    }
   ],
   "source": [
    "reseau.degree"
   ]
  },
  {
   "cell_type": "markdown",
   "id": "169a757d-5b99-48bc-9995-af43620efe5e",
   "metadata": {},
   "source": [
    "### Visualiser un réseau avec la bibliothèque IPysigma"
   ]
  },
  {
   "cell_type": "code",
   "execution_count": 9,
   "id": "522fc259-6b29-44d7-85dd-7e3e23b18106",
   "metadata": {
    "tags": []
   },
   "outputs": [],
   "source": [
    "import ipysigma"
   ]
  },
  {
   "cell_type": "code",
   "execution_count": 11,
   "id": "c504da57-a45c-47e0-81bd-634ad0a78c36",
   "metadata": {
    "tags": []
   },
   "outputs": [
    {
     "data": {
      "application/vnd.jupyter.widget-view+json": {
       "model_id": "eafce91ace0e43e58522d684f207dc6c",
       "version_major": 2,
       "version_minor": 0
      },
      "text/plain": [
       "Sigma(nx.Graph with 5 nodes and 4 edges)"
      ]
     },
     "execution_count": 11,
     "metadata": {},
     "output_type": "execute_result"
    }
   ],
   "source": [
    "ipysigma.Sigma(reseau,node_size=\"poids\")"
   ]
  },
  {
   "cell_type": "markdown",
   "id": "161bbfc2-a870-4e3a-949d-cbd473473001",
   "metadata": {},
   "source": [
    "> Installer la bibliothèque IPysigma https://github.com/medialab/ipysigma et visualiser le réseau égocentrique de Didier Raoult"
   ]
  },
  {
   "cell_type": "markdown",
   "id": "e3255f04-a450-4533-bf94-7234e8b628a0",
   "metadata": {},
   "source": [
    "### Bonus : exporter en format graphml et visualiser avec le logiciel Gephi"
   ]
  },
  {
   "cell_type": "markdown",
   "id": "20c0f78b-5319-45d9-9a08-305ef92d934c",
   "metadata": {},
   "source": [
    "## 2. Réseau complet de reweets\n",
    "\n",
    "Un retweet est généralement traduit par une approbation.\n",
    "\n",
    "### construire le réseau de retweet avec comme noeuds les comptes, leur poids étant le nombre de tweets fait, le lien étant qu'un compte a retweeté un autre, non-orienté\n",
    "\n",
    "> Se concentrer uniquement sur le début de l'épidémie, mars-avril-mai 2020 et "
   ]
  },
  {
   "cell_type": "code",
   "execution_count": 36,
   "id": "5350cbc2-a5e1-4399-9b5e-34f123a851cd",
   "metadata": {
    "tags": []
   },
   "outputs": [
    {
     "data": {
      "text/plain": [
       "Index(['id', 'created_at', 'from_user_name', 'text', 'lang',\n",
       "       'from_user_tweetcount', 'from_user_followercount',\n",
       "       'from_user_friendcount', 'retweeted_id', 'quoted_user_id',\n",
       "       'mentioned_user_names', 'count'],\n",
       "      dtype='object')"
      ]
     },
     "execution_count": 36,
     "metadata": {},
     "output_type": "execute_result"
    }
   ],
   "source": [
    "df.columns"
   ]
  },
  {
   "cell_type": "code",
   "execution_count": 37,
   "id": "c60979f6-2244-4a23-864e-340006afed0d",
   "metadata": {
    "tags": []
   },
   "outputs": [
    {
     "data": {
      "text/plain": [
       "0                                 None\n",
       "1                                 None\n",
       "3                                 None\n",
       "5                                 None\n",
       "7                                cnews\n",
       "                      ...             \n",
       "3766096                     mediavenir\n",
       "3766097                     echabriere\n",
       "3766098    dupontaignan|thierrylfronde\n",
       "3766099                          irfmx\n",
       "3766100                 silvano_trotta\n",
       "Name: mentioned_user_names, Length: 3764273, dtype: object"
      ]
     },
     "execution_count": 37,
     "metadata": {},
     "output_type": "execute_result"
    }
   ],
   "source": [
    "df[\"mentioned_user_names\"]"
   ]
  },
  {
   "cell_type": "code",
   "execution_count": 50,
   "id": "61fa3383-6428-440d-a1f1-49831677379e",
   "metadata": {
    "tags": []
   },
   "outputs": [
    {
     "data": {
      "text/plain": [
       "{'poids': 1}"
      ]
     },
     "execution_count": 50,
     "metadata": {},
     "output_type": "execute_result"
    }
   ],
   "source": [
    "reseau_retweet.edges[\"CesarJeanRony3\",\"ambassadechine\"]"
   ]
  },
  {
   "cell_type": "code",
   "execution_count": 52,
   "id": "4999942a-5adf-4e97-a880-e74b7839b0fe",
   "metadata": {
    "tags": []
   },
   "outputs": [],
   "source": [
    "# crée un graph\n",
    "reseau_retweet = nx.Graph()\n",
    "\n",
    "# pour chaque tweet\n",
    "for i,j in df_ss.iterrows():\n",
    "    \n",
    "    # si c'est un tweet original\n",
    "    if pd.notnull(j[\"retweeted_id\"]) & pd.notnull(j[\"mentioned_user_names\"]):\n",
    "        users = j[\"mentioned_user_names\"].split(\"|\")\n",
    "        username = j[\"from_user_name\"]\n",
    "        \n",
    "        # ajouter le compte qui a tweeté\n",
    "        if reseau_retweet.has_node(username):\n",
    "            reseau_retweet.nodes[username][\"poids\"]+=1\n",
    "        else:\n",
    "            reseau_retweet.add_node(username,poids=1)\n",
    "            \n",
    "        # pour chaque utilisateur mentionné\n",
    "        for u in users:\n",
    "            \n",
    "            # créer ou augmenter le poids du noeuds\n",
    "            if reseau_retweet.has_node(u):\n",
    "                reseau_retweet.nodes[u][\"poids\"]+=1\n",
    "            else:\n",
    "                reseau_retweet.add_node(u,poids=1)\n",
    "                \n",
    "            # créer ou augmenter le poids du lien\n",
    "            if reseau_retweet.has_edge(u,username):\n",
    "                reseau_retweet.edges[u,username][\"poids\"] += 1\n",
    "            else:\n",
    "                reseau_retweet.add_edge(u,username,poids=1)"
   ]
  },
  {
   "cell_type": "code",
   "execution_count": 55,
   "id": "e53d93d5-238c-4c8c-a83a-0b03678a67fb",
   "metadata": {
    "tags": []
   },
   "outputs": [
    {
     "data": {
      "text/plain": [
       "(224625, 1100515)"
      ]
     },
     "execution_count": 55,
     "metadata": {},
     "output_type": "execute_result"
    }
   ],
   "source": [
    "len(reseau_retweet.nodes),len(reseau_retweet.edges)"
   ]
  },
  {
   "cell_type": "code",
   "execution_count": 15,
   "id": "283a3dce-f37d-4939-833d-d87d92703272",
   "metadata": {},
   "outputs": [],
   "source": [
    "df_ss = df[df[\"created_at\"]<\"2020-04-01\"]\n",
    "\n",
    "# Création du réseau de retweet\n",
    "\n",
    "network_retweets = nx.Graph()\n",
    "\n",
    "##  Pour information: \n",
    "# utilisateur = 1 compte\n",
    "# utilisateur[\"weight\"] = Nombre de tweet de l'utilisateur\n",
    "# retweet_utilisateur = Personne retweetée (au moins 1 fois)\n",
    "# edges: Nombre de RT fait par utilisateur du compte retweet_utilisateur\n",
    "\n",
    "# On fait une boucle pour chaque tweet du corpus\n",
    "for i, line in df_ss.iterrows():\n",
    "    \n",
    "    # Nom du compe ayant tweeté\n",
    "    utilisateur = str(line[\"from_user_name\"])\n",
    "    \n",
    "    # L'utilisateur est-il déjà dans le réseau ?\n",
    "    if not utilisateur in network_retweets.nodes:\n",
    "        # S'il n'y est pas, on l'ajoute avec un poids de 1\n",
    "        network_retweets.add_node(utilisateur, label=utilisateur, weight=1)\n",
    "    else:\n",
    "        # S'il l'est, on augmente son poids de 1\n",
    "        network_retweets.nodes[utilisateur][\"weight\"] += 1    \n",
    "\n",
    "    # Si le tweet est un retweet\n",
    "    if pd.notnull(line[\"retweeted_user_name\"]):\n",
    "\n",
    "        # on extrait le nom de l'auteur original du tweet \n",
    "        retweet_utilisateur = str(line[\"retweeted_user_name\"])\n",
    "        \n",
    "        # si cet auteur original n'est pas dans le réseau\n",
    "        if not retweet_utilisateur in network_retweets.nodes:\n",
    "            # on ajoute un noeud\n",
    "            network_retweets.add_node(retweet_utilisateur, label=retweet_utilisateur, weight=0)\n",
    "\n",
    "        # s'il y a un retweet\n",
    "        if pd.notnull(retweet_utilisateur):\n",
    "            \n",
    "            # si l'arrête entre l'utilisitateur et l'auteur original du tweet n'existe pas\n",
    "            if not network_retweets.has_edge(utilisateur, retweet_utilisateur):\n",
    "                # On créé cette arrête\n",
    "                network_retweets.add_edge(utilisateur, retweet_utilisateur, weight=1)\n",
    "            else:\n",
    "                # si elle existe déjà on on augmente son poids de 1\n",
    "                network_retweets[utilisateur][retweet_utilisateur][\"weight\"] += 1 \n",
    "\n"
   ]
  },
  {
   "cell_type": "markdown",
   "id": "b9de24a3-79ac-4d1d-82a6-d4b5c3531a2d",
   "metadata": {},
   "source": [
    "### Calculer le nombre de noeuds, le nombre de lien, la densité du réseau"
   ]
  },
  {
   "cell_type": "markdown",
   "id": "2077eb90-101f-4745-8631-ca7dc6448abf",
   "metadata": {},
   "source": [
    "## 3. Filtrer le réseau et le visualiser"
   ]
  },
  {
   "cell_type": "markdown",
   "id": "69d48ff9-68fd-4289-8cb8-1bf002098607",
   "metadata": {},
   "source": [
    "### Calculer combien de composantes (éléments déconnectés) a le réseau ; filtrer pour ne garder que la composante principale\n",
    "\n",
    "- quelle proportion du total du réseau représente-t-elle ?"
   ]
  },
  {
   "cell_type": "code",
   "execution_count": null,
   "id": "27f2c61f-3055-4924-9f28-0eab53173790",
   "metadata": {},
   "outputs": [],
   "source": [
    "# Création du sous-graphe de la composante principale (sur laquelle on se concentre)\n",
    "list_subgraph = list(nx.connected_components(network_retweets))\n",
    "list_subgraph.sort(key=len, reverse=True)\n",
    "connected_graph = network_retweets.subgraph(list_subgraph[0])"
   ]
  },
  {
   "cell_type": "markdown",
   "id": "1b320f34-f050-404e-ad7f-2b36a4b017e2",
   "metadata": {},
   "source": [
    "### Visualiser le réseau avec IPysigma\n",
    "\n",
    "> S'il est trop volumineux, comment le réduire ?"
   ]
  },
  {
   "cell_type": "markdown",
   "id": "c8d9d13d-d204-44da-abe3-58adba0e24e6",
   "metadata": {},
   "source": [
    "## 4. (Pas traité en cours) Clusteriser le réseau pour identifier les communautés"
   ]
  },
  {
   "cell_type": "markdown",
   "id": "7d25be15-ca0f-43b4-bf5f-853dce5fc2e5",
   "metadata": {},
   "source": [
    "### Utiliser l'algorithme de Louvain pour clusteriser le réseau\n",
    "\n",
    "> https://networkx.org/documentation/stable/reference/algorithms/generated/networkx.algorithms.community.louvain.louvain_communities.html"
   ]
  },
  {
   "cell_type": "markdown",
   "id": "45db0241-f14c-4a42-a2ea-3ece96f3a087",
   "metadata": {},
   "source": [
    "### Garder les 10 principales communautés et réunir les autres dans une catégorie \"autre\""
   ]
  },
  {
   "cell_type": "code",
   "execution_count": null,
   "id": "70417e60-7282-4567-b162-05baa3f629e3",
   "metadata": {},
   "outputs": [],
   "source": [
    "import networkx.community as nx_com\n",
    "\n",
    "# On génénère la clusterisation avec l'algorithme de Louvain\n",
    "cluster_multiples = nx_comm.louvain_communities(connected_graph, weight='weight', \n",
    "                                                resolution=1, threshold=1e-07, seed=123)\n",
    "# Trier du plus grand au plus petit\n",
    "cluster_multiples = sorted(cluster_multiples,key=len,reverse=True)\n",
    "\n",
    "# Liste des clusters\n",
    "liste_clusters = pd.Series([len(i) for i in sorted(cluster_multiples)])\n",
    "\n",
    "# Regroupement des clusters après le rang 7\n",
    "cluster8 = set()\n",
    "for i in cluster_multiples[8:]:\n",
    "    cluster8.update(i)\n",
    "\n",
    "# Liste des clusters\n",
    "cluster_7 =  cluster_multiples[0:7] + [cluster8]"
   ]
  },
  {
   "cell_type": "markdown",
   "id": "d4ad5ef4-e189-43c9-828e-e17de446aba5",
   "metadata": {},
   "source": [
    "### Essayer de donner un sens aux communautés identifiées"
   ]
  },
  {
   "cell_type": "markdown",
   "id": "14837307-634a-48d4-8369-5d61f4cebc2c",
   "metadata": {},
   "source": [
    "> Calculer pour chaque communauté les comptes les plus centraux et essayer de comprendre qui ils sont"
   ]
  },
  {
   "cell_type": "markdown",
   "id": "e673f330-346c-4867-ad39-c4b79161e981",
   "metadata": {},
   "source": [
    "## 5. Bonus - Prendre en compte une dimension temporelle"
   ]
  },
  {
   "cell_type": "markdown",
   "id": "1905c4be-89c1-4670-8551-d68dbf091b02",
   "metadata": {},
   "source": [
    "Pour le moment, nous avons agrégé sur l'ensemble de la période. Maintenant nous voulons essayer d'injecter une composante temporelle. \n",
    "\n",
    "- Calculez le réseau par semaine et essayer de tracer l'évolution de ses caractéristiques (taille, densité, modularité)\n",
    "- Comment faire pour essayer de représenter l'évolution temporelle d'un réseau ?"
   ]
  }
 ],
 "metadata": {
  "kernelspec": {
   "display_name": "Python 3 (ipykernel)",
   "language": "python",
   "name": "python3"
  },
  "language_info": {
   "codemirror_mode": {
    "name": "ipython",
    "version": 3
   },
   "file_extension": ".py",
   "mimetype": "text/x-python",
   "name": "python",
   "nbconvert_exporter": "python",
   "pygments_lexer": "ipython3",
   "version": "3.11.4"
  }
 },
 "nbformat": 4,
 "nbformat_minor": 5
}
