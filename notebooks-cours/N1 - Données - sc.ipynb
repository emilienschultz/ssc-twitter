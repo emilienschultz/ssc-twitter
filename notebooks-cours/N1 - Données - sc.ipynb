{
 "cells": [
  {
   "cell_type": "markdown",
   "id": "33536b66-f1c4-4342-adc3-7b4d52c161b8",
   "metadata": {},
   "source": [
    "# Etape 1 : mise en forme des données\n",
    "\n",
    "*Durée prévisionnelle : 1h*"
   ]
  },
  {
   "cell_type": "markdown",
   "id": "380aa957-b63e-4eaf-839d-bed96cfae2a8",
   "metadata": {},
   "source": [
    "Cette première étape nécessite de se confronter aux données réelles qui ne sont pas nécessairement structurées comme souhaitée, et mettre en place les étapes de consolidation (*data management*).\n",
    "\n",
    "Objectif du notebook :\n",
    "\n",
    "1. produire un dataset manipulable\n",
    "2. débuter des statistiques de caractérisation\n",
    "\n",
    "Choix : ne pas recourir à une base de données car nous sommes dans l'exploratoire. Cela pourrait être une des débouchées de la réflexion."
   ]
  },
  {
   "cell_type": "markdown",
   "id": "3d47f267-998f-4d32-8288-dda98a7417e4",
   "metadata": {},
   "source": [
    "## 1. Format des données"
   ]
  },
  {
   "cell_type": "markdown",
   "id": "ca382620-1e4a-4766-b21a-364c4571131b",
   "metadata": {},
   "source": [
    "Les données ont été collectées au fil de l'eau par une interface spécialisée (Gazouilloire, de Sciences Po). Si le tweet fait partie d'un thread, tout le thread est récupéré. La collecte a été lancée à partir du 1ier mars 2020, et dans ce cas ce jeu de données s'arrête en octobre 2020. Il y a un fichier par jour."
   ]
  },
  {
   "cell_type": "markdown",
   "id": "b8c277d6-89e1-4ad5-b27f-a6e3d2f69b8d",
   "metadata": {},
   "source": [
    "Vous pouvez télécharger les données ici : https://www.dropbox.com/scl/fo/21bfj3fq3nac3ix1rccvn/h?rlkey=dk5pxipkfwdx4d709ro294r2i&dl=0"
   ]
  },
  {
   "cell_type": "markdown",
   "id": "c2de6fea-f21e-465f-af70-55fd450b7c29",
   "metadata": {},
   "source": [
    "### Comprendre la structuration des données\n",
    "\n",
    "- Charger un fichier avec pandas ?\n",
    "- Quelles sont les données ? Qu'est-ce qui caractérise un tweet ?\n",
    "- Quel est le format ? Quels sont les différents champs ? Que signifient ces champs ?\n",
    "- Est-ce que tout nous intéresse ? Faire une sélection des champs d'intérêt pour étudier 1/ l'évolution temporelle des tweets ; 2/ les comptes actifs ; 3/ les relations entre les comptes (retweets)"
   ]
  },
  {
   "cell_type": "code",
   "execution_count": 1,
   "id": "bb595b9e-8e2f-4103-9fb3-dff84fdcc488",
   "metadata": {
    "tags": []
   },
   "outputs": [],
   "source": [
    "import pandas as pd"
   ]
  },
  {
   "cell_type": "markdown",
   "id": "e73e3c2e-fa15-47dd-9dd5-af497636160f",
   "metadata": {},
   "source": [
    "On peut spécifier le type de données lors de l'ouverture avec Pandas"
   ]
  },
  {
   "cell_type": "code",
   "execution_count": 19,
   "id": "93466d58-c7e1-4094-a8df-4481e023770f",
   "metadata": {
    "tags": []
   },
   "outputs": [],
   "source": [
    "df = pd.read_csv(\"../../../Données/Tweets_HCQ/2020-09-10.csv.gz\",\n",
    "                 dtype = {\"id\":str,\"quoted_id\":str,\"retweeted_user_id\":str}\n",
    "                )"
   ]
  },
  {
   "cell_type": "code",
   "execution_count": 18,
   "id": "6091295e-d85b-4e9a-af6d-74e2154428c0",
   "metadata": {
    "tags": []
   },
   "outputs": [
    {
     "data": {
      "text/html": [
       "<div>\n",
       "<style scoped>\n",
       "    .dataframe tbody tr th:only-of-type {\n",
       "        vertical-align: middle;\n",
       "    }\n",
       "\n",
       "    .dataframe tbody tr th {\n",
       "        vertical-align: top;\n",
       "    }\n",
       "\n",
       "    .dataframe thead th {\n",
       "        text-align: right;\n",
       "    }\n",
       "</style>\n",
       "<table border=\"1\" class=\"dataframe\">\n",
       "  <thead>\n",
       "    <tr style=\"text-align: right;\">\n",
       "      <th></th>\n",
       "      <th>id</th>\n",
       "      <th>time</th>\n",
       "      <th>created_at</th>\n",
       "      <th>from_user_name</th>\n",
       "      <th>text</th>\n",
       "      <th>filter_level</th>\n",
       "      <th>possibly_sensitive</th>\n",
       "      <th>withheld_copyright</th>\n",
       "      <th>withheld_scope</th>\n",
       "      <th>withheld_countries</th>\n",
       "      <th>...</th>\n",
       "      <th>retweeted_user_id</th>\n",
       "      <th>quoted_id</th>\n",
       "      <th>quoted_user_name</th>\n",
       "      <th>quoted_user_id</th>\n",
       "      <th>links</th>\n",
       "      <th>medias_urls</th>\n",
       "      <th>medias_files</th>\n",
       "      <th>mentioned_user_names</th>\n",
       "      <th>mentioned_user_ids</th>\n",
       "      <th>hashtags</th>\n",
       "    </tr>\n",
       "  </thead>\n",
       "  <tbody>\n",
       "    <tr>\n",
       "      <th>0</th>\n",
       "      <td>1303845646689087493</td>\n",
       "      <td>1.599696e+09</td>\n",
       "      <td>2020-09-10T00:00:01</td>\n",
       "      <td>jack_1300xjr</td>\n",
       "      <td>RT @JillLayJones1: Chloroquine ! En supositoire !</td>\n",
       "      <td>NaN</td>\n",
       "      <td>NaN</td>\n",
       "      <td>NaN</td>\n",
       "      <td>NaN</td>\n",
       "      <td>NaN</td>\n",
       "      <td>...</td>\n",
       "      <td>1.077716e+18</td>\n",
       "      <td>1303451967134539776</td>\n",
       "      <td>Mediavenir</td>\n",
       "      <td>1.214316e+18</td>\n",
       "      <td>NaN</td>\n",
       "      <td>NaN</td>\n",
       "      <td>NaN</td>\n",
       "      <td>jilllayjones1</td>\n",
       "      <td>1077715582471102464</td>\n",
       "      <td>coronavirus|covid19|covid19france|lacombe|rent...</td>\n",
       "    </tr>\n",
       "    <tr>\n",
       "      <th>1</th>\n",
       "      <td>1303845646315720706</td>\n",
       "      <td>1.599696e+09</td>\n",
       "      <td>2020-09-10T00:00:01</td>\n",
       "      <td>JamesCheef</td>\n",
       "      <td>How can you blame governors saying they weren’...</td>\n",
       "      <td>NaN</td>\n",
       "      <td>NaN</td>\n",
       "      <td>NaN</td>\n",
       "      <td>NaN</td>\n",
       "      <td>NaN</td>\n",
       "      <td>...</td>\n",
       "      <td>NaN</td>\n",
       "      <td>NaN</td>\n",
       "      <td>NaN</td>\n",
       "      <td>NaN</td>\n",
       "      <td>NaN</td>\n",
       "      <td>NaN</td>\n",
       "      <td>NaN</td>\n",
       "      <td>NaN</td>\n",
       "      <td>NaN</td>\n",
       "      <td>NaN</td>\n",
       "    </tr>\n",
       "    <tr>\n",
       "      <th>2</th>\n",
       "      <td>1303845652439408641</td>\n",
       "      <td>1.599696e+09</td>\n",
       "      <td>2020-09-10T00:00:02</td>\n",
       "      <td>draintheswamp55</td>\n",
       "      <td>RT @karenalibby: @TDanevirke @stella_immanuel ...</td>\n",
       "      <td>NaN</td>\n",
       "      <td>NaN</td>\n",
       "      <td>NaN</td>\n",
       "      <td>NaN</td>\n",
       "      <td>NaN</td>\n",
       "      <td>...</td>\n",
       "      <td>5.429721e+08</td>\n",
       "      <td>NaN</td>\n",
       "      <td>NaN</td>\n",
       "      <td>NaN</td>\n",
       "      <td>NaN</td>\n",
       "      <td>NaN</td>\n",
       "      <td>NaN</td>\n",
       "      <td>karenalibby|stella_immanuel|tdanevirke</td>\n",
       "      <td>542972106|121532017|1043298463981740033</td>\n",
       "      <td>NaN</td>\n",
       "    </tr>\n",
       "    <tr>\n",
       "      <th>3</th>\n",
       "      <td>1303845651776712706</td>\n",
       "      <td>1.599696e+09</td>\n",
       "      <td>2020-09-10T00:00:02</td>\n",
       "      <td>dustoff2</td>\n",
       "      <td>RT @DrTomFrieden: Places around the world that...</td>\n",
       "      <td>NaN</td>\n",
       "      <td>NaN</td>\n",
       "      <td>NaN</td>\n",
       "      <td>NaN</td>\n",
       "      <td>NaN</td>\n",
       "      <td>...</td>\n",
       "      <td>8.204525e+17</td>\n",
       "      <td>NaN</td>\n",
       "      <td>NaN</td>\n",
       "      <td>NaN</td>\n",
       "      <td>NaN</td>\n",
       "      <td>NaN</td>\n",
       "      <td>NaN</td>\n",
       "      <td>drtomfrieden</td>\n",
       "      <td>820452522494226433</td>\n",
       "      <td>NaN</td>\n",
       "    </tr>\n",
       "    <tr>\n",
       "      <th>4</th>\n",
       "      <td>1303845660215644160</td>\n",
       "      <td>1.599696e+09</td>\n",
       "      <td>2020-09-10T00:00:04</td>\n",
       "      <td>MagdaSims</td>\n",
       "      <td>RT @emergrigollette: Tem gente que fala que é ...</td>\n",
       "      <td>NaN</td>\n",
       "      <td>0.0</td>\n",
       "      <td>NaN</td>\n",
       "      <td>NaN</td>\n",
       "      <td>NaN</td>\n",
       "      <td>...</td>\n",
       "      <td>8.387876e+17</td>\n",
       "      <td>1303514442974597121</td>\n",
       "      <td>felipeoabrj</td>\n",
       "      <td>4.965425e+07</td>\n",
       "      <td>https://twitter.com/felipeoabrj/status/1303514...</td>\n",
       "      <td>NaN</td>\n",
       "      <td>NaN</td>\n",
       "      <td>emergrigollette</td>\n",
       "      <td>838787596859899904</td>\n",
       "      <td>NaN</td>\n",
       "    </tr>\n",
       "    <tr>\n",
       "      <th>...</th>\n",
       "      <td>...</td>\n",
       "      <td>...</td>\n",
       "      <td>...</td>\n",
       "      <td>...</td>\n",
       "      <td>...</td>\n",
       "      <td>...</td>\n",
       "      <td>...</td>\n",
       "      <td>...</td>\n",
       "      <td>...</td>\n",
       "      <td>...</td>\n",
       "      <td>...</td>\n",
       "      <td>...</td>\n",
       "      <td>...</td>\n",
       "      <td>...</td>\n",
       "      <td>...</td>\n",
       "      <td>...</td>\n",
       "      <td>...</td>\n",
       "      <td>...</td>\n",
       "      <td>...</td>\n",
       "      <td>...</td>\n",
       "      <td>...</td>\n",
       "    </tr>\n",
       "    <tr>\n",
       "      <th>65582</th>\n",
       "      <td>1304207994465509381</td>\n",
       "      <td>1.599782e+09</td>\n",
       "      <td>2020-09-10T23:59:51</td>\n",
       "      <td>GreybeardOlorin</td>\n",
       "      <td>RT @TomFitton: #Hydroxychloroquine is a safe d...</td>\n",
       "      <td>NaN</td>\n",
       "      <td>NaN</td>\n",
       "      <td>NaN</td>\n",
       "      <td>NaN</td>\n",
       "      <td>NaN</td>\n",
       "      <td>...</td>\n",
       "      <td>1.826669e+07</td>\n",
       "      <td>NaN</td>\n",
       "      <td>NaN</td>\n",
       "      <td>NaN</td>\n",
       "      <td>NaN</td>\n",
       "      <td>NaN</td>\n",
       "      <td>NaN</td>\n",
       "      <td>tomfitton</td>\n",
       "      <td>18266688</td>\n",
       "      <td>hydroxychloroquine</td>\n",
       "    </tr>\n",
       "    <tr>\n",
       "      <th>65583</th>\n",
       "      <td>1304207998043205635</td>\n",
       "      <td>1.599782e+09</td>\n",
       "      <td>2020-09-10T23:59:52</td>\n",
       "      <td>alineja13</td>\n",
       "      <td>@adadessine @MoniquePlaza3 Raoult 😂😂😂😂😂😂😂 http...</td>\n",
       "      <td>NaN</td>\n",
       "      <td>0.0</td>\n",
       "      <td>NaN</td>\n",
       "      <td>NaN</td>\n",
       "      <td>NaN</td>\n",
       "      <td>...</td>\n",
       "      <td>NaN</td>\n",
       "      <td>NaN</td>\n",
       "      <td>NaN</td>\n",
       "      <td>NaN</td>\n",
       "      <td>https://www.youtube.com/watch?v=sESXt8O5ksE&amp;fe...</td>\n",
       "      <td>NaN</td>\n",
       "      <td>NaN</td>\n",
       "      <td>adadessine|moniqueplaza3</td>\n",
       "      <td>328497033|832272924727975937</td>\n",
       "      <td>NaN</td>\n",
       "    </tr>\n",
       "    <tr>\n",
       "      <th>65584</th>\n",
       "      <td>1304208008667443201</td>\n",
       "      <td>1.599782e+09</td>\n",
       "      <td>2020-09-10T23:59:54</td>\n",
       "      <td>calcarneiro85</td>\n",
       "      <td>RT @malufontes: falta arroz e sobra cloroquina...</td>\n",
       "      <td>NaN</td>\n",
       "      <td>0.0</td>\n",
       "      <td>NaN</td>\n",
       "      <td>NaN</td>\n",
       "      <td>NaN</td>\n",
       "      <td>...</td>\n",
       "      <td>1.689305e+07</td>\n",
       "      <td>NaN</td>\n",
       "      <td>NaN</td>\n",
       "      <td>NaN</td>\n",
       "      <td>https://www.metro1.com.br/audios/17987,malu-fo...</td>\n",
       "      <td>NaN</td>\n",
       "      <td>NaN</td>\n",
       "      <td>malufontes</td>\n",
       "      <td>16893050</td>\n",
       "      <td>NaN</td>\n",
       "    </tr>\n",
       "    <tr>\n",
       "      <th>65585</th>\n",
       "      <td>1304208008642142208</td>\n",
       "      <td>1.599782e+09</td>\n",
       "      <td>2020-09-10T23:59:54</td>\n",
       "      <td>AMluvinit2</td>\n",
       "      <td>@DonaldJTrumpJr Me too, I would like to report...</td>\n",
       "      <td>NaN</td>\n",
       "      <td>NaN</td>\n",
       "      <td>NaN</td>\n",
       "      <td>NaN</td>\n",
       "      <td>NaN</td>\n",
       "      <td>...</td>\n",
       "      <td>NaN</td>\n",
       "      <td>NaN</td>\n",
       "      <td>NaN</td>\n",
       "      <td>NaN</td>\n",
       "      <td>NaN</td>\n",
       "      <td>NaN</td>\n",
       "      <td>NaN</td>\n",
       "      <td>donaldjtrumpjr</td>\n",
       "      <td>39344374</td>\n",
       "      <td>NaN</td>\n",
       "    </tr>\n",
       "    <tr>\n",
       "      <th>65586</th>\n",
       "      <td>1304208021845954562</td>\n",
       "      <td>1.599782e+09</td>\n",
       "      <td>2020-09-10T23:59:58</td>\n",
       "      <td>Galex17200</td>\n",
       "      <td>RT @ADv_in21: Si vous n'avez pas eu l'idée de ...</td>\n",
       "      <td>NaN</td>\n",
       "      <td>NaN</td>\n",
       "      <td>NaN</td>\n",
       "      <td>NaN</td>\n",
       "      <td>NaN</td>\n",
       "      <td>...</td>\n",
       "      <td>1.243861e+18</td>\n",
       "      <td>NaN</td>\n",
       "      <td>NaN</td>\n",
       "      <td>NaN</td>\n",
       "      <td>NaN</td>\n",
       "      <td>NaN</td>\n",
       "      <td>NaN</td>\n",
       "      <td>adv_in21</td>\n",
       "      <td>1243861395759935488</td>\n",
       "      <td>NaN</td>\n",
       "    </tr>\n",
       "  </tbody>\n",
       "</table>\n",
       "<p>65587 rows × 57 columns</p>\n",
       "</div>"
      ],
      "text/plain": [
       "                        id          time           created_at  \\\n",
       "0      1303845646689087493  1.599696e+09  2020-09-10T00:00:01   \n",
       "1      1303845646315720706  1.599696e+09  2020-09-10T00:00:01   \n",
       "2      1303845652439408641  1.599696e+09  2020-09-10T00:00:02   \n",
       "3      1303845651776712706  1.599696e+09  2020-09-10T00:00:02   \n",
       "4      1303845660215644160  1.599696e+09  2020-09-10T00:00:04   \n",
       "...                    ...           ...                  ...   \n",
       "65582  1304207994465509381  1.599782e+09  2020-09-10T23:59:51   \n",
       "65583  1304207998043205635  1.599782e+09  2020-09-10T23:59:52   \n",
       "65584  1304208008667443201  1.599782e+09  2020-09-10T23:59:54   \n",
       "65585  1304208008642142208  1.599782e+09  2020-09-10T23:59:54   \n",
       "65586  1304208021845954562  1.599782e+09  2020-09-10T23:59:58   \n",
       "\n",
       "        from_user_name                                               text  \\\n",
       "0         jack_1300xjr  RT @JillLayJones1: Chloroquine ! En supositoire !   \n",
       "1           JamesCheef  How can you blame governors saying they weren’...   \n",
       "2      draintheswamp55  RT @karenalibby: @TDanevirke @stella_immanuel ...   \n",
       "3             dustoff2  RT @DrTomFrieden: Places around the world that...   \n",
       "4            MagdaSims  RT @emergrigollette: Tem gente que fala que é ...   \n",
       "...                ...                                                ...   \n",
       "65582  GreybeardOlorin  RT @TomFitton: #Hydroxychloroquine is a safe d...   \n",
       "65583        alineja13  @adadessine @MoniquePlaza3 Raoult 😂😂😂😂😂😂😂 http...   \n",
       "65584    calcarneiro85  RT @malufontes: falta arroz e sobra cloroquina...   \n",
       "65585       AMluvinit2  @DonaldJTrumpJr Me too, I would like to report...   \n",
       "65586       Galex17200  RT @ADv_in21: Si vous n'avez pas eu l'idée de ...   \n",
       "\n",
       "       filter_level  possibly_sensitive  withheld_copyright  withheld_scope  \\\n",
       "0               NaN                 NaN                 NaN             NaN   \n",
       "1               NaN                 NaN                 NaN             NaN   \n",
       "2               NaN                 NaN                 NaN             NaN   \n",
       "3               NaN                 NaN                 NaN             NaN   \n",
       "4               NaN                 0.0                 NaN             NaN   \n",
       "...             ...                 ...                 ...             ...   \n",
       "65582           NaN                 NaN                 NaN             NaN   \n",
       "65583           NaN                 0.0                 NaN             NaN   \n",
       "65584           NaN                 0.0                 NaN             NaN   \n",
       "65585           NaN                 NaN                 NaN             NaN   \n",
       "65586           NaN                 NaN                 NaN             NaN   \n",
       "\n",
       "       withheld_countries  ...  retweeted_user_id            quoted_id  \\\n",
       "0                     NaN  ...       1.077716e+18  1303451967134539776   \n",
       "1                     NaN  ...                NaN                  NaN   \n",
       "2                     NaN  ...       5.429721e+08                  NaN   \n",
       "3                     NaN  ...       8.204525e+17                  NaN   \n",
       "4                     NaN  ...       8.387876e+17  1303514442974597121   \n",
       "...                   ...  ...                ...                  ...   \n",
       "65582                 NaN  ...       1.826669e+07                  NaN   \n",
       "65583                 NaN  ...                NaN                  NaN   \n",
       "65584                 NaN  ...       1.689305e+07                  NaN   \n",
       "65585                 NaN  ...                NaN                  NaN   \n",
       "65586                 NaN  ...       1.243861e+18                  NaN   \n",
       "\n",
       "       quoted_user_name  quoted_user_id  \\\n",
       "0            Mediavenir    1.214316e+18   \n",
       "1                   NaN             NaN   \n",
       "2                   NaN             NaN   \n",
       "3                   NaN             NaN   \n",
       "4           felipeoabrj    4.965425e+07   \n",
       "...                 ...             ...   \n",
       "65582               NaN             NaN   \n",
       "65583               NaN             NaN   \n",
       "65584               NaN             NaN   \n",
       "65585               NaN             NaN   \n",
       "65586               NaN             NaN   \n",
       "\n",
       "                                                   links medias_urls  \\\n",
       "0                                                    NaN         NaN   \n",
       "1                                                    NaN         NaN   \n",
       "2                                                    NaN         NaN   \n",
       "3                                                    NaN         NaN   \n",
       "4      https://twitter.com/felipeoabrj/status/1303514...         NaN   \n",
       "...                                                  ...         ...   \n",
       "65582                                                NaN         NaN   \n",
       "65583  https://www.youtube.com/watch?v=sESXt8O5ksE&fe...         NaN   \n",
       "65584  https://www.metro1.com.br/audios/17987,malu-fo...         NaN   \n",
       "65585                                                NaN         NaN   \n",
       "65586                                                NaN         NaN   \n",
       "\n",
       "       medias_files                    mentioned_user_names  \\\n",
       "0               NaN                           jilllayjones1   \n",
       "1               NaN                                     NaN   \n",
       "2               NaN  karenalibby|stella_immanuel|tdanevirke   \n",
       "3               NaN                            drtomfrieden   \n",
       "4               NaN                         emergrigollette   \n",
       "...             ...                                     ...   \n",
       "65582           NaN                               tomfitton   \n",
       "65583           NaN                adadessine|moniqueplaza3   \n",
       "65584           NaN                              malufontes   \n",
       "65585           NaN                          donaldjtrumpjr   \n",
       "65586           NaN                                adv_in21   \n",
       "\n",
       "                            mentioned_user_ids  \\\n",
       "0                          1077715582471102464   \n",
       "1                                          NaN   \n",
       "2      542972106|121532017|1043298463981740033   \n",
       "3                           820452522494226433   \n",
       "4                           838787596859899904   \n",
       "...                                        ...   \n",
       "65582                                 18266688   \n",
       "65583             328497033|832272924727975937   \n",
       "65584                                 16893050   \n",
       "65585                                 39344374   \n",
       "65586                      1243861395759935488   \n",
       "\n",
       "                                                hashtags  \n",
       "0      coronavirus|covid19|covid19france|lacombe|rent...  \n",
       "1                                                    NaN  \n",
       "2                                                    NaN  \n",
       "3                                                    NaN  \n",
       "4                                                    NaN  \n",
       "...                                                  ...  \n",
       "65582                                 hydroxychloroquine  \n",
       "65583                                                NaN  \n",
       "65584                                                NaN  \n",
       "65585                                                NaN  \n",
       "65586                                                NaN  \n",
       "\n",
       "[65587 rows x 57 columns]"
      ]
     },
     "execution_count": 18,
     "metadata": {},
     "output_type": "execute_result"
    }
   ],
   "source": [
    "df"
   ]
  },
  {
   "cell_type": "markdown",
   "id": "1bbbe3d6-0d48-410c-81c1-1ad5a9bbf5af",
   "metadata": {},
   "source": [
    "On veut garder certains champs\n",
    "\n",
    "    id\n",
    "    created_at\n",
    "    lang\n",
    "    text\n",
    "    from_user_name\n",
    "    from_user_tweetcount\n",
    "    from_user_followercount\n",
    "    from_user_friendcount\n",
    "    retweeted_id\n",
    "    quoted_user_id\n",
    "    mentioned_user_names\n",
    "    hashtags\n",
    "    links\n"
   ]
  },
  {
   "cell_type": "markdown",
   "id": "464a08ba-e85d-4f41-ba63-3c8346c3a4b2",
   "metadata": {},
   "source": [
    "> Penser à travailler sur un sous-échantillon du corpus"
   ]
  },
  {
   "cell_type": "code",
   "execution_count": 10,
   "id": "89c2098f-c51d-4b1a-9056-5ad16182da32",
   "metadata": {
    "tags": []
   },
   "outputs": [
    {
     "data": {
      "text/plain": [
       "Index(['id', 'time', 'created_at', 'from_user_name', 'text', 'filter_level',\n",
       "       'possibly_sensitive', 'withheld_copyright', 'withheld_scope',\n",
       "       'withheld_countries', 'truncated', 'retweet_count', 'favorite_count',\n",
       "       'reply_count', 'lang', 'to_user_name', 'to_user_id',\n",
       "       'in_reply_to_status_id', 'source', 'source_name', 'source_url',\n",
       "       'location', 'lat', 'lng', 'from_user_id', 'from_user_realname',\n",
       "       'from_user_verified', 'from_user_description', 'from_user_url',\n",
       "       'from_user_profile_image_url', 'from_user_utcoffset',\n",
       "       'from_user_timezone', 'from_user_lang', 'from_user_tweetcount',\n",
       "       'from_user_followercount', 'from_user_friendcount',\n",
       "       'from_user_favourites_count', 'from_user_listed',\n",
       "       'from_user_withheld_scope', 'from_user_withheld_countries',\n",
       "       'from_user_created_at', 'collected_via_search', 'collected_via_stream',\n",
       "       'collected_via_thread_only', 'collected_at_timestamp', 'retweeted_id',\n",
       "       'retweeted_user_name', 'retweeted_user_id', 'quoted_id',\n",
       "       'quoted_user_name', 'quoted_user_id', 'links', 'medias_urls',\n",
       "       'medias_files', 'mentioned_user_names', 'mentioned_user_ids',\n",
       "       'hashtags'],\n",
       "      dtype='object')"
      ]
     },
     "execution_count": 10,
     "metadata": {},
     "output_type": "execute_result"
    }
   ],
   "source": [
    "df.columns"
   ]
  },
  {
   "cell_type": "markdown",
   "id": "04eccfe6-4800-4e40-808d-1d7ab1eac22c",
   "metadata": {},
   "source": [
    "## 2. Mise en forme de la base de données\n",
    "\n",
    "La première étape est de consolider les données"
   ]
  },
  {
   "cell_type": "markdown",
   "id": "c5419330-343a-4343-a7c3-30a0283e17be",
   "metadata": {},
   "source": [
    "### Ecrire une fonction qui filtre les tweets d'un jour et la tester sur un fichier CSV\n",
    "\n",
    "- garder uniquement les tweets qui mentionnent le mot clé d'intérêt chloro*\n",
    "- qui sont en français\n",
    "- en enlevant les colonnes qui ne nous intéressent pas pour avoir un dataset plus manipulable\n",
    "- mettre les id en chaînes de caractères pour éviter certains problèmes"
   ]
  },
  {
   "cell_type": "code",
   "execution_count": 34,
   "id": "aa3cdaca-bdeb-4a90-a9ad-dcebdf5ce03e",
   "metadata": {
    "tags": []
   },
   "outputs": [
    {
     "name": "stderr",
     "output_type": "stream",
     "text": [
      "/tmp/ipykernel_6864/3869197210.py:7: DtypeWarning: Columns (8,38) have mixed types. Specify dtype option on import or set low_memory=False.\n",
      "  tableau = pd.read_csv(nom_fichier)\n"
     ]
    }
   ],
   "source": [
    "nom_fichier = \"../../../Données/Tweets_HCQ/2020-04-08.csv.gz\"\n",
    "\n",
    "def filtrer_tableau_tweets(nom_fichier):\n",
    "    \"\"\"\n",
    "    Ouvrir et renvoyer le tableau filtré\n",
    "    \"\"\"\n",
    "    tableau = pd.read_csv(nom_fichier,dtype={\"id\":str,\"quoted_user_id\":str,\n",
    "                                             \"retweeted_id\":str,\n",
    "                                             \"retweeted_user_id\":str})\n",
    "    cols = [\"id\",\"created_at\",\"lang\",\"text\",\n",
    "            \"from_user_name\",\"from_user_tweetcount\",\"from_user_followercount\",\"from_user_friendcount\",\n",
    "            \"retweeted_id\",\"quoted_user_id\",\"mentioned_user_names\",\"hashtags\",\"links\",\n",
    "            'retweeted_user_name', 'retweeted_user_id']\n",
    "    f_lang = tableau[\"lang\"] == \"fr\"\n",
    "    f_mc = tableau[\"text\"].str.lower().str.contains(\"chloro|chl0r0|chlor0|chl0ro\")\n",
    "    return tableau[f_lang & f_mc][cols]\n",
    "\n",
    "df = filtrer_tableau_tweets(nom_fichier)\n",
    "df.to_parquet(\"../../../Données/fichiers_parquet/2020-04-08.parquet\")"
   ]
  },
  {
   "cell_type": "markdown",
   "id": "891e98fb-00bc-4258-b513-15315e8ecdfc",
   "metadata": {},
   "source": [
    "### Traiter l'ensemble des données pour construire une structure de données parquet qui ne contient que les données filtrées\n",
    "\n",
    "- Convertir un fichier csv en parquet avec pandas\n",
    "- Tester la vitesse d'ouverture\n",
    "- Convertir l'ensemble des fichiers"
   ]
  },
  {
   "cell_type": "code",
   "execution_count": 32,
   "id": "a5624b1e-095a-4193-b49c-15aaa216bde4",
   "metadata": {
    "tags": []
   },
   "outputs": [],
   "source": [
    "df.to_parquet(\"test.parquet\")\n",
    "df.to_csv(\"test.csv.gz\")"
   ]
  },
  {
   "cell_type": "code",
   "execution_count": 36,
   "id": "1a1adf49-96bb-4597-9617-26a6ea25b1dc",
   "metadata": {
    "tags": []
   },
   "outputs": [
    {
     "name": "stdout",
     "output_type": "stream",
     "text": [
      "CPU times: user 67.3 ms, sys: 24 ms, total: 91.3 ms\n",
      "Wall time: 64 ms\n",
      "CPU times: user 246 ms, sys: 12.1 ms, total: 258 ms\n",
      "Wall time: 257 ms\n"
     ]
    }
   ],
   "source": [
    "%time df = pd.read_parquet(\"test.parquet\")\n",
    "%time df = pd.read_csv(\"test.csv.gz\")"
   ]
  },
  {
   "cell_type": "markdown",
   "id": "16674828-32a7-48af-815f-fa3edd2a689b",
   "metadata": {},
   "source": [
    "> Pour faciliter la gestion mémoire : lire chaque csv en chunk et sauvegarder chaque fichier dans un format parquet dans un dossier commun. Mais attention, il y a un enjeu à bien définir un format commun sinon il peut y avoir des soucis.\n",
    "\n",
    "Sur Parquet & CSV https://www.icem7.fr/cartographie/parquet-devrait-remplacer-le-format-csv/"
   ]
  },
  {
   "cell_type": "markdown",
   "id": "3b0eb867-da08-4dfc-9667-7383bfcc36ca",
   "metadata": {},
   "source": [
    "> Il est possible de créer un seul fichier parquet, mais pour cela il faut gérer correctement le schéma de la base avec `pyarrow`"
   ]
  },
  {
   "cell_type": "code",
   "execution_count": null,
   "id": "7999f8b6-3611-4d0c-a47a-f36553c0b815",
   "metadata": {
    "tags": []
   },
   "outputs": [],
   "source": [
    "import os\n",
    "\n",
    "# Dossiers concernés\n",
    "repertoire = \"../../../Données/Tweets_HCQ/\"\n",
    "cible = \"../../../Données/fichiers_parquet/\"\n",
    "\n",
    "# ne garder que les noms de fichiers qui ont \"2020\" dedans (correspondant à notre période)\n",
    "fichiers = [i for i in os.listdir(repertoire) if \"2020\" in i]\n",
    "\n",
    "# Boucle sur tous les fichiers\n",
    "for f in fichiers:\n",
    "    # print(repertoire + f)\n",
    "    # lire et filtrer un fichier avec la fonction\n",
    "    df = filtrer_tableau_tweets(repertoire + f)\n",
    "    \n",
    "    # écrire le tableau filtrée dans un fichier\n",
    "    df.to_parquet(cible+f)"
   ]
  },
  {
   "cell_type": "markdown",
   "id": "c2fc56f9-83ef-4ef3-b51a-45571e678a0e",
   "metadata": {},
   "source": [
    "### Charger les données filtrées, supprimer les doublons et compléter la base en calculant le nombre de reweets"
   ]
  },
  {
   "cell_type": "markdown",
   "id": "731501a0-0003-4f6d-907f-cf275da7db2d",
   "metadata": {},
   "source": [
    "Dans le cas où il y a un problème de schéma, il est possible d'ouvrir les fichiers un à un, puis les concaténer dans un dataframe unique."
   ]
  },
  {
   "cell_type": "code",
   "execution_count": null,
   "id": "8d3876b4-8af0-4260-a4e0-aef966286fcf",
   "metadata": {},
   "outputs": [],
   "source": [
    "corpus = []\n",
    "for f in os.listdir(cible):\n",
    "    corpus.append(pd.read_parquet(cible+f))\n",
    "df = pd.concat(corpus)\n",
    "df.to_parquet(\"dataset.parquet\")"
   ]
  },
  {
   "cell_type": "markdown",
   "id": "ac5e4a33-27ae-44d9-a1a3-8eb6b1853888",
   "metadata": {},
   "source": [
    "Charger les données (soit le dossier ; soit le fichier)"
   ]
  },
  {
   "cell_type": "code",
   "execution_count": 49,
   "id": "eb79b97e-bcaa-478c-9345-7fb58357f7df",
   "metadata": {
    "tags": []
   },
   "outputs": [],
   "source": [
    "df = pd.read_parquet(\"../../../Données/Tweets_HCQ_parquet/\")"
   ]
  },
  {
   "cell_type": "markdown",
   "id": "b9f1a70c-17b1-4014-a1d0-66ef08017b7f",
   "metadata": {},
   "source": [
    "Dédoublonnons"
   ]
  },
  {
   "cell_type": "code",
   "execution_count": 53,
   "id": "57b4bd04-2d0a-4b42-a906-248edd251be4",
   "metadata": {
    "tags": []
   },
   "outputs": [],
   "source": [
    "df = df.drop_duplicates(subset=[\"id\"])"
   ]
  },
  {
   "cell_type": "markdown",
   "id": "edc97203-bb5b-491b-ae30-b4029e270c34",
   "metadata": {},
   "source": [
    "Calculer les retweets"
   ]
  },
  {
   "cell_type": "code",
   "execution_count": 70,
   "id": "8f50cb99-2268-4cc4-9f9b-71928d4ed8b7",
   "metadata": {
    "tags": []
   },
   "outputs": [],
   "source": [
    "retweets = df[\"retweeted_id\"].value_counts()\n",
    "df = df.join(retweets,on=\"id\")\n",
    "df = df.rename(columns={\"count\":\"retweet\"})"
   ]
  },
  {
   "cell_type": "code",
   "execution_count": 71,
   "id": "25ef117a-e4fc-4fad-acb3-f6f6c9c54b1e",
   "metadata": {
    "tags": []
   },
   "outputs": [],
   "source": [
    "df.to_parquet(\"./dataset_hcq.parquet\")"
   ]
  },
  {
   "cell_type": "markdown",
   "id": "a0f90f57-84b5-40e4-98f5-c9ffac80d7da",
   "metadata": {},
   "source": [
    "## 3. Faire des statistiques sur les tweets (comptage)"
   ]
  },
  {
   "cell_type": "markdown",
   "id": "b1555dcc-ab65-418f-83f5-7a5628e8e249",
   "metadata": {},
   "source": [
    "### Débuter l'exploration des données avec des statistiques descriptives du corpus\n",
    "\n",
    "- nombre de tweets originaux\n",
    "- nombre de retweet\n",
    "- comptes ayant le plus de tweets originaux\n",
    "    - regarder les tweets associés\n",
    "- Identifier les tweets les plus retweetés du corpus\n",
    "- comptes ayant le plus de retweets total (plus grande viralité)"
   ]
  },
  {
   "cell_type": "code",
   "execution_count": 74,
   "id": "12c8bc23-e15c-4ea2-a5ae-f599aeab04f7",
   "metadata": {
    "tags": []
   },
   "outputs": [
    {
     "data": {
      "text/plain": [
       "0.1718286638615212"
      ]
     },
     "execution_count": 74,
     "metadata": {},
     "output_type": "execute_result"
    }
   ],
   "source": [
    "pd.isnull(df[\"retweeted_id\"]).sum()/len(df)"
   ]
  },
  {
   "cell_type": "code",
   "execution_count": 78,
   "id": "f4a4252e-5369-4775-9f76-e13368d4ce9b",
   "metadata": {
    "tags": []
   },
   "outputs": [],
   "source": [
    "df[\"original\"] = pd.isnull(df[\"retweeted_id\"])"
   ]
  },
  {
   "cell_type": "code",
   "execution_count": 80,
   "id": "c6b434f4-f24a-4190-8165-dcd454fabd8d",
   "metadata": {
    "tags": []
   },
   "outputs": [
    {
     "data": {
      "text/plain": [
       "from_user_name\n",
       "00000CHANEL          0\n",
       "audescande           0\n",
       "auderaiplie          0\n",
       "audemazoue           0\n",
       "audemannoury         0\n",
       "                  ... \n",
       "lan1794           1333\n",
       "InfoVeryfiable    1337\n",
       "GBOU66            1824\n",
       "zenutopia1        2022\n",
       "a_1_0_2           2038\n",
       "Name: original, Length: 442388, dtype: int64"
      ]
     },
     "execution_count": 80,
     "metadata": {},
     "output_type": "execute_result"
    }
   ],
   "source": [
    "df.groupby(\"from_user_name\")[\"original\"].sum().sort_values()"
   ]
  },
  {
   "cell_type": "code",
   "execution_count": 82,
   "id": "6cf00d3d-6904-4faa-b01e-11fb434eaf2a",
   "metadata": {
    "tags": []
   },
   "outputs": [
    {
     "data": {
      "text/plain": [
       "from_user_name\n",
       "00000CHANEL             0.0\n",
       "chicaa135               0.0\n",
       "chibron_bac2bac         0.0\n",
       "chibre59                0.0\n",
       "chibdan4christ          0.0\n",
       "                     ...   \n",
       "CorinneReverbel     33655.0\n",
       "Conflits_FR         41617.0\n",
       "medicalfollower     77274.0\n",
       "biobiobiobior      136669.0\n",
       "raoult_didier      189286.0\n",
       "Name: retweet, Length: 442388, dtype: float64"
      ]
     },
     "execution_count": 82,
     "metadata": {},
     "output_type": "execute_result"
    }
   ],
   "source": [
    "df.groupby(\"from_user_name\")[\"retweet\"].sum().sort_values()"
   ]
  },
  {
   "cell_type": "markdown",
   "id": "ba306167-b4c8-4dcb-bbbd-6cce1a4d7133",
   "metadata": {},
   "source": [
    "### (pas traité) Aller vers une visualisation\n",
    "\n",
    "- Visualiser la distribution des retweets par tweet\n",
    "- Proposer une visualisation de la diversité de l'activité des comptes (volume de tweets, viralité, taille des comptes)"
   ]
  },
  {
   "cell_type": "markdown",
   "id": "4b67e095-9212-4da9-944b-f4a1542ced11",
   "metadata": {},
   "source": [
    "> Pour la visualisation : \n",
    ">- en x : nombre d'abonnés\n",
    ">- en y : nombre de tweets fait\n",
    ">- en taille nombre de retweet"
   ]
  },
  {
   "cell_type": "code",
   "execution_count": null,
   "id": "d407e159-552a-443b-8f2a-ffe0192b2205",
   "metadata": {},
   "outputs": [],
   "source": []
  },
  {
   "cell_type": "markdown",
   "id": "8cbf92c2-5a5d-4bdc-bd0c-3ed10606a82f",
   "metadata": {},
   "source": [
    "### Bonus : Analyser les biographies des comptes\n",
    "\n",
    "- Sortir un fichier comptes/bio pour les comptes qui ont fait au moins 10 tweets originaux\n",
    "    - Quelle bio sélectionner ?\n",
    "\n",
    "Construire un jeu de données par comptes qui ont au moins 2 activités :\n",
    "\n",
    "- nom\n",
    "- bio\n",
    "- date premier tweet/retweet\n",
    "- date dernier tweet/retweet\n",
    "- nombre de tweet\n",
    "- nombre de retweet"
   ]
  },
  {
   "cell_type": "code",
   "execution_count": null,
   "id": "a91581e0-d79f-48a4-a2a8-016cb746016f",
   "metadata": {},
   "outputs": [],
   "source": []
  }
 ],
 "metadata": {
  "kernelspec": {
   "display_name": "Python 3 (ipykernel)",
   "language": "python",
   "name": "python3"
  },
  "language_info": {
   "codemirror_mode": {
    "name": "ipython",
    "version": 3
   },
   "file_extension": ".py",
   "mimetype": "text/x-python",
   "name": "python",
   "nbconvert_exporter": "python",
   "pygments_lexer": "ipython3",
   "version": "3.11.4"
  }
 },
 "nbformat": 4,
 "nbformat_minor": 5
}
