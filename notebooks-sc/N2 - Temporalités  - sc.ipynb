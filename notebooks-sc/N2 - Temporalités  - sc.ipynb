{
 "cells": [
  {
   "cell_type": "markdown",
   "id": "4905637e-9f35-4834-ba69-68028a7a76b0",
   "metadata": {},
   "source": [
    "# Étape 2 - Évolutions temporelles\n",
    "\n",
    "*Durée prévisionnelle : 1h15*\n",
    "\n",
    "on peut partir du jeu de données parquet déjà constitué ici : https://www.dropbox.com/scl/fi/fzew7xoi555fw3ccxfwhk/all_tweets_hcq_fr.parquet?rlkey=ai3brj2r9xokhzs236r9946iv&dl=0"
   ]
  },
  {
   "cell_type": "markdown",
   "id": "2592a494-48d8-4194-a299-2de46da9a99e",
   "metadata": {},
   "source": [
    "**Principales questions que l'on se pose** :\n",
    "\n",
    "- Comment a évolué l'interaction sur HCQ ?\n",
    "- Peut-on identifier les principaux moments d'échange ? Comment ?\n",
    "- Quels sont les utilisateurs qui ont le plus augmenté le nombre de suivi ?"
   ]
  },
  {
   "cell_type": "markdown",
   "id": "b3d461e3-8abb-4a39-89d8-3c4090caec87",
   "metadata": {},
   "source": [
    "## 1. Charger les données et les mettre en forme\n",
    "\n",
    "### Préparer le dataset\n",
    "\n",
    "- Mettre le champ de date en timestamp\n",
    "- ajouter une colonne qui vaut 1 si c'est un retweet\n",
    "- ajouer une colonne qui vaut 1 si c'est un tweet original"
   ]
  },
  {
   "cell_type": "code",
   "execution_count": null,
   "id": "e5ef1e94-2a8e-4004-ba39-129db65bc67c",
   "metadata": {},
   "outputs": [],
   "source": []
  },
  {
   "cell_type": "markdown",
   "id": "c2f62d80-d4ec-4e76-acf7-40df3c943670",
   "metadata": {},
   "source": [
    "## 2. Évolution générale"
   ]
  },
  {
   "cell_type": "markdown",
   "id": "83b0d5ce-0e48-4603-91ae-0cfea7abccdf",
   "metadata": {},
   "source": [
    "### Tracer l'évolution générale de tous les tweets / et des tweets uniques avec un pas de temps par jour / par semaine\n",
    "\n",
    "> utiliser la méthode resample"
   ]
  },
  {
   "cell_type": "code",
   "execution_count": null,
   "id": "94ffa7f0-be3c-41d2-8e00-91f97c10a1aa",
   "metadata": {},
   "outputs": [],
   "source": []
  },
  {
   "cell_type": "markdown",
   "id": "7e4183a4-c84a-480d-aefd-9a9c9f68ab24",
   "metadata": {},
   "source": [
    "### Identifier les principaux pics avec une barre sur le graphique et passer par une recherche pour identifier ce qui s'est passé à ces différents moments pour l'indiquer en label. \n",
    "\n",
    "Bonus : Réfléchir à une stratégie pour détecter automatiquement les pics existant à l'échelle d'une journée.\n",
    "\n",
    "Bonus : comparer avec google trends sur le mot clé pour voir si la dynamique et la même (bonus du bonus : télécharger les données et les mettre sur un même graphique)"
   ]
  },
  {
   "cell_type": "code",
   "execution_count": null,
   "id": "a5ff9cf9-7021-4117-9f69-605b7c59009e",
   "metadata": {},
   "outputs": [],
   "source": []
  },
  {
   "cell_type": "markdown",
   "id": "8e0d1a1d-6f86-432c-8bf3-03a17ccf956d",
   "metadata": {},
   "source": [
    "### Pour les 10 tweets les plus retweetés, tracer un graphique de leur dynamique temporelle par heure\n",
    "\n",
    "Faire une grille de 10 ligne avec une représentation stylisée"
   ]
  },
  {
   "cell_type": "code",
   "execution_count": null,
   "id": "bbe47688-fa64-4ee5-9921-0416819381ed",
   "metadata": {},
   "outputs": [],
   "source": []
  },
  {
   "cell_type": "markdown",
   "id": "596a6964-419e-4a0d-bfe9-fae1a473b16c",
   "metadata": {},
   "source": [
    "## 3. Évolution des thématiques\n",
    "\n",
    "Pour étudier les thématiques, il est souvent d'usage de se concentrer sur les hashtags, qui jouent un rôle de signalement."
   ]
  },
  {
   "cell_type": "markdown",
   "id": "fb6cb444-246a-4b9a-a199-606f48f6e9d6",
   "metadata": {},
   "source": [
    "### Construire une expression régulière permettant d'extraire les hashtags du texte et créer une colonne contenant les hashtags, puis faire la liste des 100 hashtags les plus utilisés"
   ]
  },
  {
   "cell_type": "code",
   "execution_count": null,
   "id": "e5ad284c-d734-4b8a-ae43-70682bac379e",
   "metadata": {},
   "outputs": [],
   "source": []
  },
  {
   "cell_type": "markdown",
   "id": "f5ae2e0b-e4c6-44ad-876f-9b7b1476d8ed",
   "metadata": {},
   "source": [
    "### Comment faire pour regrouper des hashtags similaires ? Le faire pour les 1000 hashtags les plus fréquents\n",
    "\n",
    "Regarder les différentes stratégies possibles et leur faisabilité"
   ]
  },
  {
   "cell_type": "markdown",
   "id": "4d0d7c96-84f7-41b5-9831-5d587801580a",
   "metadata": {},
   "source": [
    "> Regarder la distance de levenshtein https://en.wikipedia.org/wiki/Levenshtein_distance\n",
    "\n",
    "> Jeter un coup d'oeil sur la bibliothèque skrub et la méthode deduplicate https://skrub-data.org/stable/generated/skrub.deduplicate.html#skrub.deduplicate\n",
    "\n",
    "> Possible aussi de tenter une méthode mixte nettoyage/dictionnaire"
   ]
  },
  {
   "cell_type": "code",
   "execution_count": null,
   "id": "ec5caa59-cc72-4de3-8433-d204c8f010a6",
   "metadata": {},
   "outputs": [],
   "source": []
  },
  {
   "cell_type": "markdown",
   "id": "5a3e7e02-307b-482b-98f6-bf677e511f38",
   "metadata": {},
   "source": [
    "### Contruire une visualisation des 10 principaux hashtags sur la période, à la fois en valeur absolue (nombre de tweets concernés) et relatifs (proportion aux tweets)"
   ]
  },
  {
   "cell_type": "markdown",
   "id": "c9c1be97-193d-4af5-b9ea-e73a626a40d9",
   "metadata": {},
   "source": [
    "Bonus : identifier les hashtags spécifiques aux pics. Pour un ou tous les pics d'activité, identifier s'il y a des hashtags spécifiques qui ont été utilisés.\n",
    "\n",
    "Plusieurs méthodes possibles :\n",
    "\n",
    "- corrélation temporelle\n",
    "- calcul d'un indicateur de spécificité (indice de Lafon https://www.persee.fr/doc/mots_0243-6450_1980_num_1_1_1008)"
   ]
  },
  {
   "cell_type": "code",
   "execution_count": null,
   "id": "49f46231-01a1-4ea4-8ef2-5afebc3b5140",
   "metadata": {},
   "outputs": [],
   "source": []
  },
  {
   "cell_type": "markdown",
   "id": "02a87325-27bd-4146-ad49-35979433bddb",
   "metadata": {},
   "source": [
    "Ce travail de nettoyage ne prend dans les faits jamais fin ..."
   ]
  },
  {
   "cell_type": "markdown",
   "id": "a69d2a12-9dd7-4b0b-a46e-cc36d4af47f6",
   "metadata": {},
   "source": [
    "## 4. Engagement des comptes dans les échanges\n",
    "\n",
    "Tous les comptes ne participent pas de la même manière aux échanges."
   ]
  },
  {
   "cell_type": "markdown",
   "id": "a82e13b0-2fd4-4915-add6-f598ba7d187c",
   "metadata": {},
   "source": [
    "### Visualiser l'engagement des comptes\n",
    "\n",
    "Trouver une manière de visualiser une grande partie des comptes sur un même graphique pour voir la variation d'engagement dans le temps"
   ]
  },
  {
   "cell_type": "code",
   "execution_count": null,
   "id": "e7f61464-0ae5-4af0-8545-e406150ffb16",
   "metadata": {},
   "outputs": [],
   "source": []
  },
  {
   "cell_type": "markdown",
   "id": "b4c89652-29aa-411e-a230-ff6e89bc5c04",
   "metadata": {
    "tags": []
   },
   "source": [
    "### Réfléchir aux différentes métriques que nous pourrions utiliser pour capter l'engagement des comptes"
   ]
  },
  {
   "cell_type": "code",
   "execution_count": null,
   "id": "6a1da72b-8f7c-440e-bbbc-4f71b708ec60",
   "metadata": {},
   "outputs": [],
   "source": []
  },
  {
   "cell_type": "markdown",
   "id": "c2c41b86-1444-4998-a683-ae7083d8529e",
   "metadata": {},
   "source": [
    "### Construire un tableau pour les 1000 comptes les plus actifs avec comme dimensions :\n",
    "\n",
    "- nombre de tweet\n",
    "- nombre de retweet\n",
    "- date du premier tweet par rapport au jour 1 de collecte\n",
    "- date du dernier tweet sur la période considérée\n",
    "- date moyenne des tweets\n",
    "- date médiane des tweets\n",
    "- + des métriques identifiées à la question précédente"
   ]
  },
  {
   "cell_type": "code",
   "execution_count": null,
   "id": "bc16ca9d-d1c2-4088-8fbd-7f0f69ec0f74",
   "metadata": {},
   "outputs": [],
   "source": []
  },
  {
   "cell_type": "markdown",
   "id": "6f13763d-47c5-415a-88ab-8eda186af71c",
   "metadata": {},
   "source": [
    "### Bonus - Faire une réduction de dimension (ACP) en 2 axes et projeter les comptes (avec leurs noms)"
   ]
  },
  {
   "cell_type": "code",
   "execution_count": null,
   "id": "9912772a-bb19-49c1-ac73-59440cabbf82",
   "metadata": {},
   "outputs": [],
   "source": []
  }
 ],
 "metadata": {
  "kernelspec": {
   "display_name": "Python 3 (ipykernel)",
   "language": "python",
   "name": "python3"
  },
  "language_info": {
   "codemirror_mode": {
    "name": "ipython",
    "version": 3
   },
   "file_extension": ".py",
   "mimetype": "text/x-python",
   "name": "python",
   "nbconvert_exporter": "python",
   "pygments_lexer": "ipython3",
   "version": "3.11.5"
  }
 },
 "nbformat": 4,
 "nbformat_minor": 5
}
