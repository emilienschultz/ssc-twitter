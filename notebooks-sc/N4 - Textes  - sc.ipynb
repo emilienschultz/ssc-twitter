{
 "cells": [
  {
   "cell_type": "markdown",
   "id": "ad6eeba7-fbc7-4b37-b98b-88ccfc94f82d",
   "metadata": {},
   "source": [
    "# Étape 4 - Analyse des données textuelles\n",
    "\n",
    "*Durée prévisionnelle : 1h*"
   ]
  },
  {
   "cell_type": "markdown",
   "id": "2181dbcb-04c6-4089-988e-ce9b458d0079",
   "metadata": {},
   "source": [
    "Nous nous sommes limités pour le moment au hashtags, mais les tweets ainsi que les bios contiennent du texte qu'il est possible d'approcher avec différentes approches de NLP.\n",
    "\n",
    "Dans ce cas, nous nous posons une question sur l'intervention des scientifiques sur les médias sociaux : comment interviennent-ils ? Interviennent-ils différemment des autres utilisateurs ?"
   ]
  },
  {
   "cell_type": "markdown",
   "id": "d674d889-66c8-4678-9abe-00c27a96ac5f",
   "metadata": {},
   "source": [
    "## 4.1 L'intervention des chercheurs et des médecins sur Twitter"
   ]
  },
  {
   "cell_type": "markdown",
   "id": "28493ff0-bd7c-4ae1-877b-496711797120",
   "metadata": {},
   "source": [
    "Une approche encore beaucoup utilisée pour sa rapidité est l'approche par dictionnaire. La description dans la bio est utilisée comme un proxy.\n",
    "\n",
    "### Construire un dictionnaire de termes permettant de caractériser un chercheur d'un côté, et un médecin de l'autre\n",
    "\n",
    "Construire à chaque fois une fonction qui renvoie vrai/faux\n"
   ]
  },
  {
   "cell_type": "code",
   "execution_count": 6,
   "id": "30f8fb0a-bc87-4afe-895b-a39cc884886d",
   "metadata": {
    "tags": []
   },
   "outputs": [],
   "source": []
  },
  {
   "cell_type": "markdown",
   "id": "534e37d4-aef2-4365-92ca-e7b89828e01e",
   "metadata": {},
   "source": [
    "### Annoter le corpus pour voir si les moments d'intervention des chercheurs/médecins sont différents de l'ensemble de l'évolution temporelle"
   ]
  },
  {
   "cell_type": "code",
   "execution_count": null,
   "id": "5a535c1b-3851-4e7f-bcc5-915d4c47645b",
   "metadata": {},
   "outputs": [],
   "source": []
  },
  {
   "cell_type": "markdown",
   "id": "2e24d822-b4d8-449b-bd6b-7628cba3af8a",
   "metadata": {},
   "source": [
    "## 4.2 Utiliser SpaCy pour lemmatiser\n",
    "\n",
    "Une des difficultés avec le langage naturel est de séparer les différentes entités (mots, phrases) et des les caractériser. Une autre est la variation importante des termes. \n",
    "\n",
    "Les modèles de langage sont des prédicteurs permettant de faire ce travail de tokenisation, de lemmatisation et de prédiction des fonctions.\n",
    "\n",
    "Une bibliothèque utile pour cela est spacy"
   ]
  },
  {
   "cell_type": "markdown",
   "id": "8dbf30d2-c02e-4d32-b35d-9b1358ea55ad",
   "metadata": {
    "tags": []
   },
   "source": [
    "### Utiliser SpaCy pour lemmatiser les termes d'une phrase"
   ]
  },
  {
   "cell_type": "code",
   "execution_count": null,
   "id": "edf27fc4-1462-43e2-9fea-ba9a101d163f",
   "metadata": {
    "tags": []
   },
   "outputs": [],
   "source": []
  },
  {
   "cell_type": "markdown",
   "id": "f17ce97e-ee2b-4578-8820-29d6adc980b2",
   "metadata": {},
   "source": [
    "### Ne garder que les noms communs dans les 1000 tweets les plus retweetés et faire le comptage"
   ]
  },
  {
   "cell_type": "code",
   "execution_count": null,
   "id": "b79e837a-b6f3-4086-a89b-faef57eed8c4",
   "metadata": {},
   "outputs": [],
   "source": []
  },
  {
   "cell_type": "markdown",
   "id": "a44cf5e7-ee56-4762-8b5c-8cc78f3bdfd6",
   "metadata": {},
   "source": [
    "## 4.3 Sentiment analysis"
   ]
  },
  {
   "cell_type": "markdown",
   "id": "6e9f6841-7af5-4235-9f44-bbee07cd8ca2",
   "metadata": {},
   "source": [
    "Il est possible d'utiliser les modèles pour automatiser certains traitements."
   ]
  },
  {
   "cell_type": "markdown",
   "id": "d6a0eacf-6a0a-4678-a564-9e6f60cc7f28",
   "metadata": {},
   "source": [
    "Des modèles existent. Par exemple : https://huggingface.co/cardiffnlp/twitter-xlm-roberta-base-sentiment"
   ]
  },
  {
   "cell_type": "markdown",
   "id": "c333abe7-c03b-4d88-b30e-0f204c781257",
   "metadata": {},
   "source": [
    "### Installer et tester le modèle twitter xml roberta"
   ]
  },
  {
   "cell_type": "markdown",
   "id": "dd3f4909-6659-4a7e-81b2-4478970d1326",
   "metadata": {},
   "source": [
    "importer le modèle de sentiment analysis ; attention le modèle peut être un peu lourd."
   ]
  },
  {
   "cell_type": "code",
   "execution_count": null,
   "id": "1f2e6c2f-4fa2-43fe-a625-91a8bca182ec",
   "metadata": {},
   "outputs": [],
   "source": []
  },
  {
   "cell_type": "markdown",
   "id": "99663e4c-084c-4e69-958f-67c32ecb6038",
   "metadata": {},
   "source": [
    "### Analyser les 1000 tweets les plus retweetés\n",
    "\n",
    "Est-ce que cette méthode est fiable ?"
   ]
  },
  {
   "cell_type": "code",
   "execution_count": null,
   "id": "005b4779-b84d-4624-98a5-9e5c5ad22dc2",
   "metadata": {},
   "outputs": [],
   "source": []
  },
  {
   "cell_type": "markdown",
   "id": "6fc50fb4-8d6d-48d7-a11d-ed1dab59f0a8",
   "metadata": {},
   "source": [
    "## 4.4 Topic analysis\n",
    "\n",
    "Une solution pour analyser les thématiques est de recourir à différentes méthodes de modélisation de thèmes (topic analysis) non supervisés.\n",
    "\n",
    "De nombreuses options existent (LSA, LDA, etc.). Toutes ne sont pas forcément très efficaces pour des textes de type tweets. Certaines solutions sont complètement intégrés et combinent un embedding, une réduction de dimensionnalité, du clustering et de la synthèse. Jetons un coup d'oeil à BERTOPIC"
   ]
  },
  {
   "cell_type": "code",
   "execution_count": null,
   "id": "499453f2-9410-46e6-9265-ec11c00498a8",
   "metadata": {},
   "outputs": [],
   "source": []
  },
  {
   "cell_type": "markdown",
   "id": "bb902987-8abe-4d7d-a189-cb0a632c6877",
   "metadata": {},
   "source": [
    "### Comprendre BERTOPIC https://maartengr.github.io/BERTopic/index.html\n",
    "\n",
    "Quelles sont les opérations faites par BERTOPIC ?"
   ]
  },
  {
   "cell_type": "code",
   "execution_count": null,
   "id": "6c317ca2-5e36-48c9-8fd5-45f445f0a750",
   "metadata": {},
   "outputs": [],
   "source": []
  },
  {
   "cell_type": "markdown",
   "id": "0241f092-a878-46e2-b83d-a7752ac8d113",
   "metadata": {},
   "source": [
    "### Application sur un sous ensemble de tweets\n",
    "\n",
    "Le traitement avec des embeddings nécessite de la puissance de calcul qui peut dépasser nos ordinateurs. Nous allons donc nous restreindre à un sous-corpus."
   ]
  },
  {
   "cell_type": "markdown",
   "id": "81adeef0-9450-4cad-ad64-8b02e9553dd0",
   "metadata": {},
   "source": [
    "Construire le corpus des tweets ayant au moins 10 retweets, et faire une analyse avec BERTOPIC"
   ]
  },
  {
   "cell_type": "code",
   "execution_count": null,
   "id": "25236026-25b0-427c-a17a-b30cc89f4230",
   "metadata": {},
   "outputs": [],
   "source": []
  }
 ],
 "metadata": {
  "kernelspec": {
   "display_name": "Python 3 (ipykernel)",
   "language": "python",
   "name": "python3"
  },
  "language_info": {
   "codemirror_mode": {
    "name": "ipython",
    "version": 3
   },
   "file_extension": ".py",
   "mimetype": "text/x-python",
   "name": "python",
   "nbconvert_exporter": "python",
   "pygments_lexer": "ipython3",
   "version": "3.11.5"
  }
 },
 "nbformat": 4,
 "nbformat_minor": 5
}
