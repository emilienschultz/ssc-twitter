{
 "cells": [
  {
   "cell_type": "markdown",
   "id": "33536b66-f1c4-4342-adc3-7b4d52c161b8",
   "metadata": {},
   "source": [
    "# Etape 1 : mise en forme des données\n",
    "\n",
    "*Durée prévisionnelle : 1h*"
   ]
  },
  {
   "cell_type": "markdown",
   "id": "380aa957-b63e-4eaf-839d-bed96cfae2a8",
   "metadata": {},
   "source": [
    "Cette première étape nécessite de se confronter aux données réelles qui ne sont pas nécessairement structurées comme souhaitée, et mettre en place les étapes de consolidation (*data management*).\n",
    "\n",
    "Objectif du notebook :\n",
    "\n",
    "1. produire un dataset manipulable\n",
    "2. débuter des statistiques de caractérisation\n",
    "\n",
    "Choix : ne pas recourir à une base de données car nous sommes dans l'exploratoire. Cela pourrait être une des débouchées de la réflexion."
   ]
  },
  {
   "cell_type": "markdown",
   "id": "3d47f267-998f-4d32-8288-dda98a7417e4",
   "metadata": {},
   "source": [
    "## 1. Format des données"
   ]
  },
  {
   "cell_type": "markdown",
   "id": "ca382620-1e4a-4766-b21a-364c4571131b",
   "metadata": {},
   "source": [
    "Les données ont été collectées au fil de l'eau par une interface spécialisée (Gazouilloire, de Sciences Po). Si le tweet fait partie d'un thread, tout le thread est récupéré. La collecte a été lancée à partir du 1ier mars 2020, et dans ce cas ce jeu de données s'arrête en octobre 2020. Il y a un fichier par jour."
   ]
  },
  {
   "cell_type": "markdown",
   "id": "b8c277d6-89e1-4ad5-b27f-a6e3d2f69b8d",
   "metadata": {},
   "source": [
    "Vous pouvez télécharger les données ici : https://www.dropbox.com/scl/fo/21bfj3fq3nac3ix1rccvn/h?rlkey=dk5pxipkfwdx4d709ro294r2i&dl=0"
   ]
  },
  {
   "cell_type": "markdown",
   "id": "c2de6fea-f21e-465f-af70-55fd450b7c29",
   "metadata": {},
   "source": [
    "### Comprendre la structuration des données\n",
    "\n",
    "- Charger un fichier avec pandas ?\n",
    "- Quelles sont les données ? Qu'est-ce qui caractérise un tweet ?\n",
    "- Quel est le format ? Quels sont les différents champs ? Que signifient ces champs ?\n",
    "- Est-ce que tout nous intéresse ? Faire une sélection des champs d'intérêt pour étudier 1/ l'évolution temporelle des tweets ; 2/ les comptes actifs ; 3/ les relations entre les comptes (retweets)"
   ]
  },
  {
   "cell_type": "markdown",
   "id": "464a08ba-e85d-4f41-ba63-3c8346c3a4b2",
   "metadata": {},
   "source": [
    "> Penser à travailler sur un sous-échantillon du corpus"
   ]
  },
  {
   "cell_type": "code",
   "execution_count": null,
   "id": "89c2098f-c51d-4b1a-9056-5ad16182da32",
   "metadata": {},
   "outputs": [],
   "source": []
  },
  {
   "cell_type": "markdown",
   "id": "04eccfe6-4800-4e40-808d-1d7ab1eac22c",
   "metadata": {},
   "source": [
    "## 2. Mise en forme de la base de données\n",
    "\n",
    "La première étape est de consolider les données"
   ]
  },
  {
   "cell_type": "markdown",
   "id": "c5419330-343a-4343-a7c3-30a0283e17be",
   "metadata": {},
   "source": [
    "### Ecrire une fonction qui filtre les tweets d'un jour et la tester sur un fichier CSV\n",
    "\n",
    "- garder uniquement les tweets qui mentionnent le mot clé d'intérêt chloro*\n",
    "- qui sont en français\n",
    "- en enlevant les colonnes qui ne nous intéressent pas pour avoir un dataset plus manipulable\n",
    "- mettre les id en chaînes de caractères pour éviter certains problèmes"
   ]
  },
  {
   "cell_type": "code",
   "execution_count": null,
   "id": "aa3cdaca-bdeb-4a90-a9ad-dcebdf5ce03e",
   "metadata": {},
   "outputs": [],
   "source": []
  },
  {
   "cell_type": "markdown",
   "id": "891e98fb-00bc-4258-b513-15315e8ecdfc",
   "metadata": {},
   "source": [
    "### Traiter l'ensemble des données pour construire une structure de données parquet qui ne contient que les données filtrées\n",
    "\n",
    "- Convertir un fichier csv en parquet avec pandas\n",
    "- Tester la vitesse d'ouverture\n",
    "- Convertir l'ensemble des fichiers"
   ]
  },
  {
   "cell_type": "markdown",
   "id": "16674828-32a7-48af-815f-fa3edd2a689b",
   "metadata": {},
   "source": [
    "> Pour faciliter la gestion mémoire : lire chaque csv en chunk et sauvegarder chaque fichier dans un format parquet dans un dossier commun. Mais attention, il y a un enjeu à bien définir un format commun sinon il peut y avoir des soucis.\n",
    "\n",
    "Sur Parquet & CSV https://www.icem7.fr/cartographie/parquet-devrait-remplacer-le-format-csv/"
   ]
  },
  {
   "cell_type": "markdown",
   "id": "3b0eb867-da08-4dfc-9667-7383bfcc36ca",
   "metadata": {},
   "source": [
    "> Il est possible de créer un seul fichier parquet, mais pour cela il faut gérer correctement le schéma de la base avec `pyarrow`"
   ]
  },
  {
   "cell_type": "code",
   "execution_count": null,
   "id": "7999f8b6-3611-4d0c-a47a-f36553c0b815",
   "metadata": {},
   "outputs": [],
   "source": []
  },
  {
   "cell_type": "markdown",
   "id": "c2fc56f9-83ef-4ef3-b51a-45571e678a0e",
   "metadata": {},
   "source": [
    "### Charger les données filtrées, supprimer les doublons et compléter la base en calculant le nombre de reweets"
   ]
  },
  {
   "cell_type": "code",
   "execution_count": null,
   "id": "eb79b97e-bcaa-478c-9345-7fb58357f7df",
   "metadata": {},
   "outputs": [],
   "source": []
  },
  {
   "cell_type": "markdown",
   "id": "a0f90f57-84b5-40e4-98f5-c9ffac80d7da",
   "metadata": {},
   "source": [
    "## 3. Faire des statistiques sur les tweets (comptage)"
   ]
  },
  {
   "cell_type": "markdown",
   "id": "b1555dcc-ab65-418f-83f5-7a5628e8e249",
   "metadata": {},
   "source": [
    "### Débuter l'exploration des données avec des statistiques descriptives du corpus\n",
    "\n",
    "- nombre de tweets originaux\n",
    "- nombre de retweet\n",
    "- comptes ayant le plus de tweets originaux\n",
    "    - regarder les tweets associés\n",
    "- Identifier les tweets les plus retweetés du corpus\n",
    "- comptes ayant le plus de retweets total (plus grande viralité)"
   ]
  },
  {
   "cell_type": "code",
   "execution_count": null,
   "id": "12c8bc23-e15c-4ea2-a5ae-f599aeab04f7",
   "metadata": {},
   "outputs": [],
   "source": []
  },
  {
   "cell_type": "markdown",
   "id": "ba306167-b4c8-4dcb-bbbd-6cce1a4d7133",
   "metadata": {},
   "source": [
    "### Aller vers une visualisation\n",
    "\n",
    "- Visualiser la distribution des retweets par tweet\n",
    "- Proposer une visualisation de la diversité de l'activité des comptes (volume de tweets, viralité, taille des comptes)"
   ]
  },
  {
   "cell_type": "markdown",
   "id": "4b67e095-9212-4da9-944b-f4a1542ced11",
   "metadata": {},
   "source": [
    "> Pour la visualisation : \n",
    ">- en x : nombre d'abonnés\n",
    ">- en y : nombre de tweets fait\n",
    ">- en taille nombre de retweet"
   ]
  },
  {
   "cell_type": "code",
   "execution_count": null,
   "id": "d407e159-552a-443b-8f2a-ffe0192b2205",
   "metadata": {},
   "outputs": [],
   "source": []
  },
  {
   "cell_type": "markdown",
   "id": "8cbf92c2-5a5d-4bdc-bd0c-3ed10606a82f",
   "metadata": {},
   "source": [
    "### Bonus : Analyser les biographies des comptes\n",
    "\n",
    "- Sortir un fichier comptes/bio pour les comptes qui ont fait au moins 10 tweets originaux\n",
    "    - Quelle bio sélectionner ?\n",
    "\n",
    "Construire un jeu de données par comptes qui ont au moins 2 activités :\n",
    "\n",
    "- nom\n",
    "- bio\n",
    "- date premier tweet/retweet\n",
    "- date dernier tweet/retweet\n",
    "- nombre de tweet\n",
    "- nombre de retweet"
   ]
  },
  {
   "cell_type": "code",
   "execution_count": null,
   "id": "a91581e0-d79f-48a4-a2a8-016cb746016f",
   "metadata": {},
   "outputs": [],
   "source": []
  }
 ],
 "metadata": {
  "kernelspec": {
   "display_name": "Python 3 (ipykernel)",
   "language": "python",
   "name": "python3"
  },
  "language_info": {
   "codemirror_mode": {
    "name": "ipython",
    "version": 3
   },
   "file_extension": ".py",
   "mimetype": "text/x-python",
   "name": "python",
   "nbconvert_exporter": "python",
   "pygments_lexer": "ipython3",
   "version": "3.11.5"
  }
 },
 "nbformat": 4,
 "nbformat_minor": 5
}
