{
 "cells": [
  {
   "cell_type": "markdown",
   "id": "ff7558ce-bf26-48b3-98bb-c231ad2ebd3d",
   "metadata": {},
   "source": [
    "# Étape 3 - Analyse des réseaux sociaux\n",
    "\n",
    "*Durée prévisionnelle : 1h15*\n",
    "\n",
    "**Présentation slides avant le notebook**"
   ]
  },
  {
   "cell_type": "markdown",
   "id": "80ac5459-19e3-4976-805c-a46337c09792",
   "metadata": {},
   "source": [
    "Il est possible de s'intéresser non pas uniquement au comptage de certains éléments, mais au lien que ces éléments ont ensemble.\n",
    "\n",
    "Dans le cas des des médias sociaux, le plus évident est le lien entre les utilisateurs.\n",
    "\n",
    "Il peut y avoir différents types de liens :\n",
    "- le fait de suivre quelqu'un\n",
    "- le fait de mentionner quelqu'un\n",
    "- le fait de partager certaines informations (retweet) \n",
    "- le fait d'avoir des caractéristiques similires (similarité)\n",
    "\n",
    "Étudier les réseaux permet de s'intéresser à des formes de proximité / distance entre des entités."
   ]
  },
  {
   "cell_type": "markdown",
   "id": "961ccc4a-a517-4c07-a994-c466ab8a3424",
   "metadata": {},
   "source": [
    "## 1. Construire un réseau égocentrique et visualiser"
   ]
  },
  {
   "cell_type": "markdown",
   "id": "b756074f-eb84-4993-b545-05e50838095f",
   "metadata": {},
   "source": [
    "Pour cela nous allons utiliser la bibliothèque Networkx qui permet de construire et de manipuler des structures de graph : https://networkx.org/"
   ]
  },
  {
   "cell_type": "markdown",
   "id": "841d320c-b98a-4a87-afc5-4106164c2fb8",
   "metadata": {},
   "source": [
    "### Construire le réseau de tous les comptes mentionnés par Didier Raoult"
   ]
  },
  {
   "cell_type": "code",
   "execution_count": null,
   "id": "9cfb2e11-c87e-4723-9b47-37337d79b601",
   "metadata": {},
   "outputs": [],
   "source": []
  },
  {
   "cell_type": "markdown",
   "id": "169a757d-5b99-48bc-9995-af43620efe5e",
   "metadata": {},
   "source": [
    "### Visualiser un réseau avec la bibliothèque IPysigma"
   ]
  },
  {
   "cell_type": "markdown",
   "id": "161bbfc2-a870-4e3a-949d-cbd473473001",
   "metadata": {},
   "source": [
    "> Installer la bibliothèque IPysigma https://github.com/medialab/ipysigma et visualiser le réseau égocentrique de Didier Raoult"
   ]
  },
  {
   "cell_type": "code",
   "execution_count": null,
   "id": "e6aab718-1708-4e09-bea1-fa86aafa309c",
   "metadata": {},
   "outputs": [],
   "source": []
  },
  {
   "cell_type": "markdown",
   "id": "e3255f04-a450-4533-bf94-7234e8b628a0",
   "metadata": {},
   "source": [
    "### Bonus : exporter en format graphml et visualiser avec le logiciel Gephi"
   ]
  },
  {
   "cell_type": "code",
   "execution_count": null,
   "id": "dd4c96c2-4cf7-448e-8ae7-e9ceec64bd3e",
   "metadata": {},
   "outputs": [],
   "source": []
  },
  {
   "cell_type": "markdown",
   "id": "20c0f78b-5319-45d9-9a08-305ef92d934c",
   "metadata": {},
   "source": [
    "## 2. Réseau complet de reweets\n",
    "\n",
    "Un retweet est généralement traduit par une approbation.\n",
    "\n",
    "### construire le réseau de retweet avec comme noeuds les comptes, leur poids étant le nombre de tweets fait, le lien étant qu'un compte a retweeté un autre, non-orienté\n",
    "\n",
    "> Se concentrer uniquement sur le début de l'épidémie, mars-avril-mai 2020 et "
   ]
  },
  {
   "cell_type": "code",
   "execution_count": null,
   "id": "2a813127-031e-4535-82d5-df567519085e",
   "metadata": {},
   "outputs": [],
   "source": []
  },
  {
   "cell_type": "markdown",
   "id": "ab666c0e-7bea-4805-8069-c23afef71629",
   "metadata": {},
   "source": [
    "### Calculer le nombre de noeuds, le nombre de lien, la densité du réseau"
   ]
  },
  {
   "cell_type": "code",
   "execution_count": null,
   "id": "283a3dce-f37d-4939-833d-d87d92703272",
   "metadata": {},
   "outputs": [],
   "source": []
  },
  {
   "cell_type": "markdown",
   "id": "2077eb90-101f-4745-8631-ca7dc6448abf",
   "metadata": {},
   "source": [
    "## 3. Filtrer le réseau et le visualiser"
   ]
  },
  {
   "cell_type": "markdown",
   "id": "69d48ff9-68fd-4289-8cb8-1bf002098607",
   "metadata": {},
   "source": [
    "### Calculer combien de composantes (éléments déconnectés) a le réseau ; filtrer pour ne garder que la composante principale\n",
    "\n",
    "- quelle proportion du total du réseau représente-t-elle ?"
   ]
  },
  {
   "cell_type": "code",
   "execution_count": null,
   "id": "41142549-0a0a-481f-9a38-9d217e3ceec3",
   "metadata": {},
   "outputs": [],
   "source": []
  },
  {
   "cell_type": "markdown",
   "id": "1b320f34-f050-404e-ad7f-2b36a4b017e2",
   "metadata": {},
   "source": [
    "### Visualiser le réseau avec IPysigma\n",
    "\n",
    "> S'il est trop volumineux, comment le réduire ?"
   ]
  },
  {
   "cell_type": "code",
   "execution_count": null,
   "id": "154eddca-4c80-442e-9992-74807200a817",
   "metadata": {},
   "outputs": [],
   "source": []
  },
  {
   "cell_type": "markdown",
   "id": "c8d9d13d-d204-44da-abe3-58adba0e24e6",
   "metadata": {},
   "source": [
    "## 4. Clusteriser le réseau pour identifier les communautés"
   ]
  },
  {
   "cell_type": "markdown",
   "id": "7d25be15-ca0f-43b4-bf5f-853dce5fc2e5",
   "metadata": {},
   "source": [
    "### Utiliser l'algorithme de Louvain pour clusteriser le réseau\n",
    "\n",
    "> https://networkx.org/documentation/stable/reference/algorithms/generated/networkx.algorithms.community.louvain.louvain_communities.html"
   ]
  },
  {
   "cell_type": "code",
   "execution_count": null,
   "id": "b335cd22-46b7-4670-ae8f-88cc537294fb",
   "metadata": {},
   "outputs": [],
   "source": []
  },
  {
   "cell_type": "markdown",
   "id": "45db0241-f14c-4a42-a2ea-3ece96f3a087",
   "metadata": {},
   "source": [
    "### Garder les 10 principales communautés et réunir les autres dans une catégorie \"autre\""
   ]
  },
  {
   "cell_type": "code",
   "execution_count": null,
   "id": "70417e60-7282-4567-b162-05baa3f629e3",
   "metadata": {},
   "outputs": [],
   "source": []
  },
  {
   "cell_type": "markdown",
   "id": "d4ad5ef4-e189-43c9-828e-e17de446aba5",
   "metadata": {},
   "source": [
    "### Essayer de donner un sens aux communautés identifiées"
   ]
  },
  {
   "cell_type": "markdown",
   "id": "14837307-634a-48d4-8369-5d61f4cebc2c",
   "metadata": {},
   "source": [
    "> Calculer pour chaque communauté les comptes les plus centraux et essayer de comprendre qui ils sont"
   ]
  },
  {
   "cell_type": "code",
   "execution_count": null,
   "id": "de327d5d-714e-440c-97c4-93e62e41d99e",
   "metadata": {},
   "outputs": [],
   "source": []
  },
  {
   "cell_type": "markdown",
   "id": "e673f330-346c-4867-ad39-c4b79161e981",
   "metadata": {},
   "source": [
    "## 5. Bonus - Prendre en compte une dimension temporelle"
   ]
  },
  {
   "cell_type": "markdown",
   "id": "1905c4be-89c1-4670-8551-d68dbf091b02",
   "metadata": {},
   "source": [
    "Pour le moment, nous avons agrégé sur l'ensemble de la période. Maintenant nous voulons essayer d'injecter une composante temporelle. \n",
    "\n",
    "- Calculez le réseau par semaine et essayer de tracer l'évolution de ses caractéristiques (taille, densité, modularité)\n",
    "- Comment faire pour essayer de représenter l'évolution temporelle d'un réseau ?"
   ]
  },
  {
   "cell_type": "code",
   "execution_count": null,
   "id": "92f79012-859c-4254-9c8c-93937da72bc5",
   "metadata": {},
   "outputs": [],
   "source": []
  }
 ],
 "metadata": {
  "kernelspec": {
   "display_name": "Python 3 (ipykernel)",
   "language": "python",
   "name": "python3"
  },
  "language_info": {
   "codemirror_mode": {
    "name": "ipython",
    "version": 3
   },
   "file_extension": ".py",
   "mimetype": "text/x-python",
   "name": "python",
   "nbconvert_exporter": "python",
   "pygments_lexer": "ipython3",
   "version": "3.11.5"
  }
 },
 "nbformat": 4,
 "nbformat_minor": 5
}
